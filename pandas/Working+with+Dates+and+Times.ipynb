{
 "cells": [
  {
   "cell_type": "markdown",
   "metadata": {},
   "source": [
    "## 課程說明\n",
    "此堂課程專注在處理日期與時間問題，可能兩天之間的時間或是持續多久的時間，通過類似的方式來處理。課程中也會回顧一下python的日期、時間處理函式。  "
   ]
  },
  {
   "cell_type": "code",
   "execution_count": 1,
   "metadata": {
    "collapsed": true
   },
   "outputs": [],
   "source": [
    "import pandas as pd\n",
    "import datetime as dt"
   ]
  },
  {
   "cell_type": "markdown",
   "metadata": {},
   "source": [
    "## Review of Python's datetime Module"
   ]
  },
  {
   "cell_type": "code",
   "execution_count": 2,
   "metadata": {},
   "outputs": [
    {
     "data": {
      "text/plain": [
       "datetime.date(2018, 5, 2)"
      ]
     },
     "execution_count": 2,
     "metadata": {},
     "output_type": "execute_result"
    }
   ],
   "source": [
    "dt.date(2018, 5, 2)"
   ]
  },
  {
   "cell_type": "code",
   "execution_count": 3,
   "metadata": {
    "collapsed": true
   },
   "outputs": [],
   "source": [
    "day = dt.date(2018, 5, 2)"
   ]
  },
  {
   "cell_type": "code",
   "execution_count": 4,
   "metadata": {},
   "outputs": [
    {
     "name": "stdout",
     "output_type": "stream",
     "text": [
      "2018 5 2\n"
     ]
    }
   ],
   "source": [
    "#  利用year month day取得物件的年月日\n",
    "print(day.year, day.month, day.day)"
   ]
  },
  {
   "cell_type": "code",
   "execution_count": 5,
   "metadata": {},
   "outputs": [
    {
     "data": {
      "text/plain": [
       "datetime.datetime(2018, 5, 2, 0, 0)"
      ]
     },
     "execution_count": 5,
     "metadata": {},
     "output_type": "execute_result"
    }
   ],
   "source": [
    "#  datetime如果沒有提供時間會預設為半夜12點\n",
    "dt.datetime(2018, 5, 2)"
   ]
  },
  {
   "cell_type": "code",
   "execution_count": 6,
   "metadata": {},
   "outputs": [
    {
     "data": {
      "text/plain": [
       "datetime.datetime(2018, 5, 2, 19, 0)"
      ]
     },
     "execution_count": 6,
     "metadata": {},
     "output_type": "execute_result"
    }
   ],
   "source": [
    "#  年月日時分\n",
    "dt.datetime(2018, 5, 2, 19, 0)"
   ]
  },
  {
   "cell_type": "code",
   "execution_count": 7,
   "metadata": {},
   "outputs": [
    {
     "data": {
      "text/plain": [
       "datetime.datetime(2018, 5, 2, 19, 0, 10)"
      ]
     },
     "execution_count": 7,
     "metadata": {},
     "output_type": "execute_result"
    }
   ],
   "source": [
    "#  年月日時分秒\n",
    "dt.datetime(2018, 5, 2, 19, 0, 10)"
   ]
  },
  {
   "cell_type": "code",
   "execution_count": 8,
   "metadata": {},
   "outputs": [
    {
     "data": {
      "text/plain": [
       "'2018-05-02 19:00:10'"
      ]
     },
     "execution_count": 8,
     "metadata": {},
     "output_type": "execute_result"
    }
   ],
   "source": [
    "str(dt.datetime(2018, 5, 2, 19, 0, 10))"
   ]
  },
  {
   "cell_type": "code",
   "execution_count": 9,
   "metadata": {},
   "outputs": [
    {
     "name": "stdout",
     "output_type": "stream",
     "text": [
      "2018 5 2 19 0 10\n"
     ]
    }
   ],
   "source": [
    "day = dt.datetime(2018, 5, 2, 19, 0, 10)\n",
    "#  可透過年月日時分秒來提取相關時間格式\n",
    "print(day.year, day.month, day.day, day.hour, day.minute, day.second)"
   ]
  },
  {
   "cell_type": "markdown",
   "metadata": {},
   "source": [
    "## The pandas Timestamp Object"
   ]
  },
  {
   "cell_type": "code",
   "execution_count": 10,
   "metadata": {},
   "outputs": [
    {
     "data": {
      "text/plain": [
       "Timestamp('2018-05-02 00:00:00')"
      ]
     },
     "execution_count": 10,
     "metadata": {},
     "output_type": "execute_result"
    }
   ],
   "source": [
    "#  pandas的timestamp沒給定時間的情況下也是預設為半夜十二點\n",
    "pd.Timestamp(\"2018-05-02\")"
   ]
  },
  {
   "cell_type": "code",
   "execution_count": 11,
   "metadata": {},
   "outputs": [
    {
     "data": {
      "text/plain": [
       "Timestamp('2018-05-02 00:00:00')"
      ]
     },
     "execution_count": 11,
     "metadata": {},
     "output_type": "execute_result"
    }
   ],
   "source": [
    "pd.Timestamp('2018/5/2')"
   ]
  },
  {
   "cell_type": "code",
   "execution_count": 12,
   "metadata": {},
   "outputs": [
    {
     "data": {
      "text/plain": [
       "Timestamp('2018-05-02 00:00:00')"
      ]
     },
     "execution_count": 12,
     "metadata": {},
     "output_type": "execute_result"
    }
   ],
   "source": [
    "pd.Timestamp('2018, 5, 2')"
   ]
  },
  {
   "cell_type": "code",
   "execution_count": 13,
   "metadata": {},
   "outputs": [
    {
     "data": {
      "text/plain": [
       "Timestamp('2018-05-02 00:00:00')"
      ]
     },
     "execution_count": 13,
     "metadata": {},
     "output_type": "execute_result"
    }
   ],
   "source": [
    "pd.Timestamp('5/2/2018')"
   ]
  },
  {
   "cell_type": "code",
   "execution_count": 14,
   "metadata": {},
   "outputs": [
    {
     "data": {
      "text/plain": [
       "Timestamp('2018-05-30 00:00:00')"
      ]
     },
     "execution_count": 14,
     "metadata": {},
     "output_type": "execute_result"
    }
   ],
   "source": [
    "#  即使將日期放在前面也可以順利的解析\n",
    "#  所以格式上要注意到當月在前面可以解析的時候，就會以月為主\n",
    "pd.Timestamp('30/5/2018')"
   ]
  },
  {
   "cell_type": "code",
   "execution_count": 15,
   "metadata": {},
   "outputs": [
    {
     "data": {
      "text/plain": [
       "Timestamp('2018-05-02 20:00:00')"
      ]
     },
     "execution_count": 15,
     "metadata": {},
     "output_type": "execute_result"
    }
   ],
   "source": [
    "pd.Timestamp('2018-5-2 20:00:00')"
   ]
  },
  {
   "cell_type": "code",
   "execution_count": 16,
   "metadata": {},
   "outputs": [
    {
     "data": {
      "text/plain": [
       "Timestamp('2018-05-02 20:00:00')"
      ]
     },
     "execution_count": 16,
     "metadata": {},
     "output_type": "execute_result"
    }
   ],
   "source": [
    "pd.Timestamp('2018-5-2 08:00:00 PM')"
   ]
  },
  {
   "cell_type": "code",
   "execution_count": 17,
   "metadata": {},
   "outputs": [
    {
     "data": {
      "text/plain": [
       "Timestamp('2018-05-02 00:00:00')"
      ]
     },
     "execution_count": 17,
     "metadata": {},
     "output_type": "execute_result"
    }
   ],
   "source": [
    "pd.Timestamp(dt.date(2018, 5, 2))"
   ]
  },
  {
   "cell_type": "code",
   "execution_count": 18,
   "metadata": {},
   "outputs": [
    {
     "data": {
      "text/plain": [
       "Timestamp('2018-05-02 20:10:59')"
      ]
     },
     "execution_count": 18,
     "metadata": {},
     "output_type": "execute_result"
    }
   ],
   "source": [
    "pd.Timestamp(dt.datetime(2018, 5, 2, 20, 10, 59))"
   ]
  },
  {
   "cell_type": "markdown",
   "metadata": {},
   "source": [
    "## The pandas DateTimeIndex Object "
   ]
  },
  {
   "cell_type": "code",
   "execution_count": 19,
   "metadata": {},
   "outputs": [
    {
     "data": {
      "text/plain": [
       "DatetimeIndex(['2018-01-01', '2018-03-01', '2018-05-01', '2018-10-01'], dtype='datetime64[ns]', freq=None)"
      ]
     },
     "execution_count": 19,
     "metadata": {},
     "output_type": "execute_result"
    }
   ],
   "source": [
    "#  建置一個時間list，提供給DatetimeIndex做參數\n",
    "#  注意到即使我們弄了2018/3/1還是會被解析為2018-03-01\n",
    "dates = ['2018-1-1', '2018/3/1', '2018-5-1', '2018-10-1']\n",
    "pd.DatetimeIndex(dates)"
   ]
  },
  {
   "cell_type": "code",
   "execution_count": 20,
   "metadata": {},
   "outputs": [
    {
     "data": {
      "text/plain": [
       "pandas.core.indexes.datetimes.DatetimeIndex"
      ]
     },
     "execution_count": 20,
     "metadata": {},
     "output_type": "execute_result"
    }
   ],
   "source": [
    "type(pd.DatetimeIndex(dates))"
   ]
  },
  {
   "cell_type": "code",
   "execution_count": 21,
   "metadata": {},
   "outputs": [
    {
     "data": {
      "text/plain": [
       "2018-01-01    100\n",
       "2018-03-01    200\n",
       "2018-05-01    300\n",
       "2018-10-01    400\n",
       "dtype: int64"
      ]
     },
     "execution_count": 21,
     "metadata": {},
     "output_type": "execute_result"
    }
   ],
   "source": [
    "date_index = pd.DatetimeIndex(dates)\n",
    "#  設置一個list數值，數量等同上面的日期\n",
    "values = [100, 200, 300, 400]\n",
    "#  賦值series\n",
    "pd.Series(values, index=date_index)"
   ]
  },
  {
   "cell_type": "markdown",
   "metadata": {
    "collapsed": true
   },
   "source": [
    "## The pd.to_datetime() Method"
   ]
  },
  {
   "cell_type": "code",
   "execution_count": 22,
   "metadata": {},
   "outputs": [
    {
     "data": {
      "text/plain": [
       "Timestamp('2018-05-03 00:00:00')"
      ]
     },
     "execution_count": 22,
     "metadata": {},
     "output_type": "execute_result"
    }
   ],
   "source": [
    "#  利用to_datetime來轉成pandas的timestamp\n",
    "pd.to_datetime('2018-5-3')"
   ]
  },
  {
   "cell_type": "code",
   "execution_count": 23,
   "metadata": {},
   "outputs": [
    {
     "data": {
      "text/plain": [
       "DatetimeIndex(['2018-01-01', '2018-01-02', '2019-01-01'], dtype='datetime64[ns]', freq=None)"
      ]
     },
     "execution_count": 23,
     "metadata": {},
     "output_type": "execute_result"
    }
   ],
   "source": [
    "pd.to_datetime(['2018-01-01', '2018/01/02', '2019'])"
   ]
  },
  {
   "cell_type": "code",
   "execution_count": 3,
   "metadata": {},
   "outputs": [
    {
     "data": {
      "text/plain": [
       "Timestamp('2018-05-03 22:00:00')"
      ]
     },
     "execution_count": 3,
     "metadata": {},
     "output_type": "execute_result"
    }
   ],
   "source": [
    "pd.to_datetime('2018-5-3 10:00:00 PM')"
   ]
  },
  {
   "cell_type": "code",
   "execution_count": 4,
   "metadata": {},
   "outputs": [
    {
     "data": {
      "text/plain": [
       "Timestamp('2018-05-03 00:00:00')"
      ]
     },
     "execution_count": 4,
     "metadata": {},
     "output_type": "execute_result"
    }
   ],
   "source": [
    "pd.to_datetime(dt.datetime(2018, 5, 3))"
   ]
  },
  {
   "cell_type": "code",
   "execution_count": 6,
   "metadata": {},
   "outputs": [
    {
     "data": {
      "text/plain": [
       "DatetimeIndex(['2018-05-03', '2018-10-04', '2018-05-03'], dtype='datetime64[ns]', freq=None)"
      ]
     },
     "execution_count": 6,
     "metadata": {},
     "output_type": "execute_result"
    }
   ],
   "source": [
    "pd.to_datetime(['2018-5-3', '2018/10/4', 'May 3th,2018'])"
   ]
  },
  {
   "cell_type": "code",
   "execution_count": 9,
   "metadata": {},
   "outputs": [
    {
     "data": {
      "text/plain": [
       "0        2018-5-3\n",
       "1       2018/10/4\n",
       "2    May 3th,2018\n",
       "dtype: object"
      ]
     },
     "execution_count": 9,
     "metadata": {},
     "output_type": "execute_result"
    }
   ],
   "source": [
    "#  如果直接將這個list做為參數，pandas並不會自動的將之解析為日期\n",
    "#  可以看到格式為object\n",
    "times = pd.Series(['2018-5-3', '2018/10/4', 'May 3th,2018'])\n",
    "times"
   ]
  },
  {
   "cell_type": "code",
   "execution_count": 10,
   "metadata": {},
   "outputs": [
    {
     "data": {
      "text/plain": [
       "0   2018-05-03\n",
       "1   2018-10-04\n",
       "2   2018-05-03\n",
       "dtype: datetime64[ns]"
      ]
     },
     "execution_count": 10,
     "metadata": {},
     "output_type": "execute_result"
    }
   ],
   "source": [
    "#  可以發現到格式變更為datetime64\n",
    "pd.to_datetime(times)"
   ]
  },
  {
   "cell_type": "code",
   "execution_count": 11,
   "metadata": {},
   "outputs": [
    {
     "data": {
      "text/plain": [
       "0     2018-5-3\n",
       "1    2018/10/4\n",
       "2          abc\n",
       "dtype: object"
      ]
     },
     "execution_count": 11,
     "metadata": {},
     "output_type": "execute_result"
    }
   ],
   "source": [
    "#  如果提供了一個錯誤的資訊要給to_datetime解析會造成錯誤\n",
    "times = pd.Series(['2018-5-3', '2018/10/4', 'abc'])\n",
    "times"
   ]
  },
  {
   "cell_type": "code",
   "execution_count": 12,
   "metadata": {
    "scrolled": true
   },
   "outputs": [
    {
     "ename": "ValueError",
     "evalue": "Unknown string format",
     "output_type": "error",
     "traceback": [
      "\u001b[1;31m---------------------------------------------------------------------------\u001b[0m",
      "\u001b[1;31mTypeError\u001b[0m                                 Traceback (most recent call last)",
      "\u001b[1;32mC:\\ProgramData\\Anaconda3\\lib\\site-packages\\pandas\\core\\tools\\datetimes.py\u001b[0m in \u001b[0;36m_convert_listlike\u001b[1;34m(arg, box, format, name, tz)\u001b[0m\n\u001b[0;32m    302\u001b[0m             \u001b[1;32mtry\u001b[0m\u001b[1;33m:\u001b[0m\u001b[1;33m\u001b[0m\u001b[0m\n\u001b[1;32m--> 303\u001b[1;33m                 \u001b[0mvalues\u001b[0m\u001b[1;33m,\u001b[0m \u001b[0mtz\u001b[0m \u001b[1;33m=\u001b[0m \u001b[0mtslib\u001b[0m\u001b[1;33m.\u001b[0m\u001b[0mdatetime_to_datetime64\u001b[0m\u001b[1;33m(\u001b[0m\u001b[0marg\u001b[0m\u001b[1;33m)\u001b[0m\u001b[1;33m\u001b[0m\u001b[0m\n\u001b[0m\u001b[0;32m    304\u001b[0m                 \u001b[1;32mreturn\u001b[0m \u001b[0mDatetimeIndex\u001b[0m\u001b[1;33m.\u001b[0m\u001b[0m_simple_new\u001b[0m\u001b[1;33m(\u001b[0m\u001b[0mvalues\u001b[0m\u001b[1;33m,\u001b[0m \u001b[0mname\u001b[0m\u001b[1;33m=\u001b[0m\u001b[0mname\u001b[0m\u001b[1;33m,\u001b[0m \u001b[0mtz\u001b[0m\u001b[1;33m=\u001b[0m\u001b[0mtz\u001b[0m\u001b[1;33m)\u001b[0m\u001b[1;33m\u001b[0m\u001b[0m\n",
      "\u001b[1;32mpandas/_libs/tslib.pyx\u001b[0m in \u001b[0;36mpandas._libs.tslib.datetime_to_datetime64\u001b[1;34m()\u001b[0m\n",
      "\u001b[1;31mTypeError\u001b[0m: Unrecognized value type: <class 'str'>",
      "\nDuring handling of the above exception, another exception occurred:\n",
      "\u001b[1;31mValueError\u001b[0m                                Traceback (most recent call last)",
      "\u001b[1;32m<ipython-input-12-67588779b6e7>\u001b[0m in \u001b[0;36m<module>\u001b[1;34m()\u001b[0m\n\u001b[1;32m----> 1\u001b[1;33m \u001b[0mpd\u001b[0m\u001b[1;33m.\u001b[0m\u001b[0mto_datetime\u001b[0m\u001b[1;33m(\u001b[0m\u001b[0mtimes\u001b[0m\u001b[1;33m)\u001b[0m\u001b[1;33m\u001b[0m\u001b[0m\n\u001b[0m",
      "\u001b[1;32mC:\\ProgramData\\Anaconda3\\lib\\site-packages\\pandas\\core\\tools\\datetimes.py\u001b[0m in \u001b[0;36mto_datetime\u001b[1;34m(arg, errors, dayfirst, yearfirst, utc, box, format, exact, unit, infer_datetime_format, origin)\u001b[0m\n\u001b[0;32m    371\u001b[0m     \u001b[1;32melif\u001b[0m \u001b[0misinstance\u001b[0m\u001b[1;33m(\u001b[0m\u001b[0marg\u001b[0m\u001b[1;33m,\u001b[0m \u001b[0mABCSeries\u001b[0m\u001b[1;33m)\u001b[0m\u001b[1;33m:\u001b[0m\u001b[1;33m\u001b[0m\u001b[0m\n\u001b[0;32m    372\u001b[0m         \u001b[1;32mfrom\u001b[0m \u001b[0mpandas\u001b[0m \u001b[1;32mimport\u001b[0m \u001b[0mSeries\u001b[0m\u001b[1;33m\u001b[0m\u001b[0m\n\u001b[1;32m--> 373\u001b[1;33m         \u001b[0mvalues\u001b[0m \u001b[1;33m=\u001b[0m \u001b[0m_convert_listlike\u001b[0m\u001b[1;33m(\u001b[0m\u001b[0marg\u001b[0m\u001b[1;33m.\u001b[0m\u001b[0m_values\u001b[0m\u001b[1;33m,\u001b[0m \u001b[1;32mTrue\u001b[0m\u001b[1;33m,\u001b[0m \u001b[0mformat\u001b[0m\u001b[1;33m)\u001b[0m\u001b[1;33m\u001b[0m\u001b[0m\n\u001b[0m\u001b[0;32m    374\u001b[0m         \u001b[0mresult\u001b[0m \u001b[1;33m=\u001b[0m \u001b[0mSeries\u001b[0m\u001b[1;33m(\u001b[0m\u001b[0mvalues\u001b[0m\u001b[1;33m,\u001b[0m \u001b[0mindex\u001b[0m\u001b[1;33m=\u001b[0m\u001b[0marg\u001b[0m\u001b[1;33m.\u001b[0m\u001b[0mindex\u001b[0m\u001b[1;33m,\u001b[0m \u001b[0mname\u001b[0m\u001b[1;33m=\u001b[0m\u001b[0marg\u001b[0m\u001b[1;33m.\u001b[0m\u001b[0mname\u001b[0m\u001b[1;33m)\u001b[0m\u001b[1;33m\u001b[0m\u001b[0m\n\u001b[0;32m    375\u001b[0m     \u001b[1;32melif\u001b[0m \u001b[0misinstance\u001b[0m\u001b[1;33m(\u001b[0m\u001b[0marg\u001b[0m\u001b[1;33m,\u001b[0m \u001b[1;33m(\u001b[0m\u001b[0mABCDataFrame\u001b[0m\u001b[1;33m,\u001b[0m \u001b[0mMutableMapping\u001b[0m\u001b[1;33m)\u001b[0m\u001b[1;33m)\u001b[0m\u001b[1;33m:\u001b[0m\u001b[1;33m\u001b[0m\u001b[0m\n",
      "\u001b[1;32mC:\\ProgramData\\Anaconda3\\lib\\site-packages\\pandas\\core\\tools\\datetimes.py\u001b[0m in \u001b[0;36m_convert_listlike\u001b[1;34m(arg, box, format, name, tz)\u001b[0m\n\u001b[0;32m    304\u001b[0m                 \u001b[1;32mreturn\u001b[0m \u001b[0mDatetimeIndex\u001b[0m\u001b[1;33m.\u001b[0m\u001b[0m_simple_new\u001b[0m\u001b[1;33m(\u001b[0m\u001b[0mvalues\u001b[0m\u001b[1;33m,\u001b[0m \u001b[0mname\u001b[0m\u001b[1;33m=\u001b[0m\u001b[0mname\u001b[0m\u001b[1;33m,\u001b[0m \u001b[0mtz\u001b[0m\u001b[1;33m=\u001b[0m\u001b[0mtz\u001b[0m\u001b[1;33m)\u001b[0m\u001b[1;33m\u001b[0m\u001b[0m\n\u001b[0;32m    305\u001b[0m             \u001b[1;32mexcept\u001b[0m \u001b[1;33m(\u001b[0m\u001b[0mValueError\u001b[0m\u001b[1;33m,\u001b[0m \u001b[0mTypeError\u001b[0m\u001b[1;33m)\u001b[0m\u001b[1;33m:\u001b[0m\u001b[1;33m\u001b[0m\u001b[0m\n\u001b[1;32m--> 306\u001b[1;33m                 \u001b[1;32mraise\u001b[0m \u001b[0me\u001b[0m\u001b[1;33m\u001b[0m\u001b[0m\n\u001b[0m\u001b[0;32m    307\u001b[0m \u001b[1;33m\u001b[0m\u001b[0m\n\u001b[0;32m    308\u001b[0m     \u001b[1;32mif\u001b[0m \u001b[0marg\u001b[0m \u001b[1;32mis\u001b[0m \u001b[1;32mNone\u001b[0m\u001b[1;33m:\u001b[0m\u001b[1;33m\u001b[0m\u001b[0m\n",
      "\u001b[1;32mC:\\ProgramData\\Anaconda3\\lib\\site-packages\\pandas\\core\\tools\\datetimes.py\u001b[0m in \u001b[0;36m_convert_listlike\u001b[1;34m(arg, box, format, name, tz)\u001b[0m\n\u001b[0;32m    292\u001b[0m                     \u001b[0mdayfirst\u001b[0m\u001b[1;33m=\u001b[0m\u001b[0mdayfirst\u001b[0m\u001b[1;33m,\u001b[0m\u001b[1;33m\u001b[0m\u001b[0m\n\u001b[0;32m    293\u001b[0m                     \u001b[0myearfirst\u001b[0m\u001b[1;33m=\u001b[0m\u001b[0myearfirst\u001b[0m\u001b[1;33m,\u001b[0m\u001b[1;33m\u001b[0m\u001b[0m\n\u001b[1;32m--> 294\u001b[1;33m                     \u001b[0mrequire_iso8601\u001b[0m\u001b[1;33m=\u001b[0m\u001b[0mrequire_iso8601\u001b[0m\u001b[1;33m\u001b[0m\u001b[0m\n\u001b[0m\u001b[0;32m    295\u001b[0m                 )\n\u001b[0;32m    296\u001b[0m \u001b[1;33m\u001b[0m\u001b[0m\n",
      "\u001b[1;32mpandas/_libs/tslib.pyx\u001b[0m in \u001b[0;36mpandas._libs.tslib.array_to_datetime\u001b[1;34m()\u001b[0m\n",
      "\u001b[1;32mpandas/_libs/tslib.pyx\u001b[0m in \u001b[0;36mpandas._libs.tslib.array_to_datetime\u001b[1;34m()\u001b[0m\n",
      "\u001b[1;32mpandas/_libs/tslib.pyx\u001b[0m in \u001b[0;36mpandas._libs.tslib.array_to_datetime\u001b[1;34m()\u001b[0m\n",
      "\u001b[1;32mpandas/_libs/tslibs/parsing.pyx\u001b[0m in \u001b[0;36mpandas._libs.tslibs.parsing.parse_datetime_string\u001b[1;34m()\u001b[0m\n",
      "\u001b[1;32mC:\\ProgramData\\Anaconda3\\lib\\site-packages\\dateutil\\parser.py\u001b[0m in \u001b[0;36mparse\u001b[1;34m(timestr, parserinfo, **kwargs)\u001b[0m\n\u001b[0;32m   1166\u001b[0m         \u001b[1;32mreturn\u001b[0m \u001b[0mparser\u001b[0m\u001b[1;33m(\u001b[0m\u001b[0mparserinfo\u001b[0m\u001b[1;33m)\u001b[0m\u001b[1;33m.\u001b[0m\u001b[0mparse\u001b[0m\u001b[1;33m(\u001b[0m\u001b[0mtimestr\u001b[0m\u001b[1;33m,\u001b[0m \u001b[1;33m**\u001b[0m\u001b[0mkwargs\u001b[0m\u001b[1;33m)\u001b[0m\u001b[1;33m\u001b[0m\u001b[0m\n\u001b[0;32m   1167\u001b[0m     \u001b[1;32melse\u001b[0m\u001b[1;33m:\u001b[0m\u001b[1;33m\u001b[0m\u001b[0m\n\u001b[1;32m-> 1168\u001b[1;33m         \u001b[1;32mreturn\u001b[0m \u001b[0mDEFAULTPARSER\u001b[0m\u001b[1;33m.\u001b[0m\u001b[0mparse\u001b[0m\u001b[1;33m(\u001b[0m\u001b[0mtimestr\u001b[0m\u001b[1;33m,\u001b[0m \u001b[1;33m**\u001b[0m\u001b[0mkwargs\u001b[0m\u001b[1;33m)\u001b[0m\u001b[1;33m\u001b[0m\u001b[0m\n\u001b[0m\u001b[0;32m   1169\u001b[0m \u001b[1;33m\u001b[0m\u001b[0m\n\u001b[0;32m   1170\u001b[0m \u001b[1;33m\u001b[0m\u001b[0m\n",
      "\u001b[1;32mC:\\ProgramData\\Anaconda3\\lib\\site-packages\\dateutil\\parser.py\u001b[0m in \u001b[0;36mparse\u001b[1;34m(self, timestr, default, ignoretz, tzinfos, **kwargs)\u001b[0m\n\u001b[0;32m    557\u001b[0m \u001b[1;33m\u001b[0m\u001b[0m\n\u001b[0;32m    558\u001b[0m         \u001b[1;32mif\u001b[0m \u001b[0mres\u001b[0m \u001b[1;32mis\u001b[0m \u001b[1;32mNone\u001b[0m\u001b[1;33m:\u001b[0m\u001b[1;33m\u001b[0m\u001b[0m\n\u001b[1;32m--> 559\u001b[1;33m             \u001b[1;32mraise\u001b[0m \u001b[0mValueError\u001b[0m\u001b[1;33m(\u001b[0m\u001b[1;34m\"Unknown string format\"\u001b[0m\u001b[1;33m)\u001b[0m\u001b[1;33m\u001b[0m\u001b[0m\n\u001b[0m\u001b[0;32m    560\u001b[0m \u001b[1;33m\u001b[0m\u001b[0m\n\u001b[0;32m    561\u001b[0m         \u001b[1;32mif\u001b[0m \u001b[0mlen\u001b[0m\u001b[1;33m(\u001b[0m\u001b[0mres\u001b[0m\u001b[1;33m)\u001b[0m \u001b[1;33m==\u001b[0m \u001b[1;36m0\u001b[0m\u001b[1;33m:\u001b[0m\u001b[1;33m\u001b[0m\u001b[0m\n",
      "\u001b[1;31mValueError\u001b[0m: Unknown string format"
     ]
    }
   ],
   "source": [
    "pd.to_datetime(times)"
   ]
  },
  {
   "cell_type": "code",
   "execution_count": 13,
   "metadata": {},
   "outputs": [
    {
     "data": {
      "text/plain": [
       "0   2018-05-03\n",
       "1   2018-10-04\n",
       "2          NaT\n",
       "dtype: datetime64[ns]"
      ]
     },
     "execution_count": 13,
     "metadata": {},
     "output_type": "execute_result"
    }
   ],
   "source": [
    "#  利用參數來略過錯誤，錯誤的部份回傳NaT\n",
    "pd.to_datetime(times, errors='coerce')"
   ]
  },
  {
   "cell_type": "code",
   "execution_count": 29,
   "metadata": {},
   "outputs": [
    {
     "data": {
      "text/plain": [
       "Timestamp('2018-05-03 11:11:10.270391')"
      ]
     },
     "execution_count": 29,
     "metadata": {},
     "output_type": "execute_result"
    }
   ],
   "source": [
    "#  也可以解析unix time\n",
    "import time\n",
    "pd.to_datetime(time.time(), unit='s')"
   ]
  },
  {
   "cell_type": "markdown",
   "metadata": {},
   "source": [
    "## Create Range of Dates with pd.date_range() Method, Part1"
   ]
  },
  {
   "cell_type": "code",
   "execution_count": 31,
   "metadata": {},
   "outputs": [
    {
     "data": {
      "text/plain": [
       "DatetimeIndex(['2018-05-03', '2018-05-04', '2018-05-05', '2018-05-06',\n",
       "               '2018-05-07', '2018-05-08', '2018-05-09', '2018-05-10',\n",
       "               '2018-05-11', '2018-05-12', '2018-05-13', '2018-05-14',\n",
       "               '2018-05-15', '2018-05-16', '2018-05-17', '2018-05-18',\n",
       "               '2018-05-19', '2018-05-20', '2018-05-21', '2018-05-22',\n",
       "               '2018-05-23', '2018-05-24', '2018-05-25', '2018-05-26',\n",
       "               '2018-05-27', '2018-05-28', '2018-05-29', '2018-05-30'],\n",
       "              dtype='datetime64[ns]', freq='D')"
      ]
     },
     "execution_count": 31,
     "metadata": {},
     "output_type": "execute_result"
    }
   ],
   "source": [
    "#  最少要提供兩個參數，利用start,end來設置日期區間\n",
    "pd.date_range(start='2018-5-3', end='2018-5-30')"
   ]
  },
  {
   "cell_type": "code",
   "execution_count": 33,
   "metadata": {},
   "outputs": [
    {
     "data": {
      "text/plain": [
       "DatetimeIndex(['2018-05-03', '2018-05-04', '2018-05-05', '2018-05-06',\n",
       "               '2018-05-07', '2018-05-08', '2018-05-09', '2018-05-10',\n",
       "               '2018-05-11', '2018-05-12', '2018-05-13', '2018-05-14',\n",
       "               '2018-05-15', '2018-05-16', '2018-05-17', '2018-05-18',\n",
       "               '2018-05-19', '2018-05-20', '2018-05-21', '2018-05-22',\n",
       "               '2018-05-23', '2018-05-24', '2018-05-25', '2018-05-26',\n",
       "               '2018-05-27', '2018-05-28', '2018-05-29', '2018-05-30'],\n",
       "              dtype='datetime64[ns]', freq='D')"
      ]
     },
     "execution_count": 33,
     "metadata": {},
     "output_type": "execute_result"
    }
   ],
   "source": [
    "#  參數freq是指頻率，把它看成以什麼為單位做間隔，預設D為天\n",
    "#  注意到回傳的是一個時間索引\n",
    "pd.date_range(start='2018-5-3', end='2018-5-30', freq='D')"
   ]
  },
  {
   "cell_type": "code",
   "execution_count": 34,
   "metadata": {},
   "outputs": [
    {
     "data": {
      "text/plain": [
       "pandas.core.indexes.datetimes.DatetimeIndex"
      ]
     },
     "execution_count": 34,
     "metadata": {},
     "output_type": "execute_result"
    }
   ],
   "source": [
    "times = pd.date_range(start='2018-5-1', end='2018-5-10', freq='D')\n",
    "type(times)"
   ]
  },
  {
   "cell_type": "code",
   "execution_count": 35,
   "metadata": {},
   "outputs": [
    {
     "data": {
      "text/plain": [
       "Timestamp('2018-05-03 00:00:00', freq='D')"
      ]
     },
     "execution_count": 35,
     "metadata": {},
     "output_type": "execute_result"
    }
   ],
   "source": [
    "times[0]"
   ]
  },
  {
   "cell_type": "code",
   "execution_count": 36,
   "metadata": {},
   "outputs": [
    {
     "data": {
      "text/plain": [
       "DatetimeIndex(['2018-05-01', '2018-05-03', '2018-05-05', '2018-05-07',\n",
       "               '2018-05-09'],\n",
       "              dtype='datetime64[ns]', freq='2D')"
      ]
     },
     "execution_count": 36,
     "metadata": {},
     "output_type": "execute_result"
    }
   ],
   "source": [
    "#  設置為2D就代表每兩天一個間隔\n",
    "pd.date_range(start='2018-5-1', end='2018-5-10', freq='2D')"
   ]
  },
  {
   "cell_type": "code",
   "execution_count": 37,
   "metadata": {
    "scrolled": true
   },
   "outputs": [
    {
     "data": {
      "text/plain": [
       "DatetimeIndex(['2018-05-01', '2018-05-02', '2018-05-03', '2018-05-04',\n",
       "               '2018-05-07', '2018-05-08', '2018-05-09', '2018-05-10'],\n",
       "              dtype='datetime64[ns]', freq='B')"
      ]
     },
     "execution_count": 37,
     "metadata": {},
     "output_type": "execute_result"
    }
   ],
   "source": [
    "#  設置為B代表工作日(就是非六日)\n",
    "pd.date_range(start='2018-5-1', end='2018-5-10', freq='B')"
   ]
  },
  {
   "cell_type": "code",
   "execution_count": 38,
   "metadata": {},
   "outputs": [
    {
     "data": {
      "text/plain": [
       "DatetimeIndex(['2018-05-06'], dtype='datetime64[ns]', freq='W-SUN')"
      ]
     },
     "execution_count": 38,
     "metadata": {},
     "output_type": "execute_result"
    }
   ],
   "source": [
    "#  設置為W為週，每週的第一天，認定為禮拜天，所以只出現5/6\n",
    "pd.date_range(start='2018-5-1', end='2018-5-10', freq='W')"
   ]
  },
  {
   "cell_type": "code",
   "execution_count": 39,
   "metadata": {},
   "outputs": [
    {
     "data": {
      "text/plain": [
       "DatetimeIndex(['2018-05-04'], dtype='datetime64[ns]', freq='W-FRI')"
      ]
     },
     "execution_count": 39,
     "metadata": {},
     "output_type": "execute_result"
    }
   ],
   "source": [
    "#  或指定週五來當第一天\n",
    "pd.date_range(start='2018-5-1', end='2018-5-10', freq='W-FRI')"
   ]
  },
  {
   "cell_type": "code",
   "execution_count": 40,
   "metadata": {},
   "outputs": [
    {
     "data": {
      "text/plain": [
       "DatetimeIndex(['2018-05-01 00:00:00', '2018-05-01 01:00:00',\n",
       "               '2018-05-01 02:00:00', '2018-05-01 03:00:00',\n",
       "               '2018-05-01 04:00:00', '2018-05-01 05:00:00',\n",
       "               '2018-05-01 06:00:00', '2018-05-01 07:00:00',\n",
       "               '2018-05-01 08:00:00', '2018-05-01 09:00:00',\n",
       "               ...\n",
       "               '2018-05-09 15:00:00', '2018-05-09 16:00:00',\n",
       "               '2018-05-09 17:00:00', '2018-05-09 18:00:00',\n",
       "               '2018-05-09 19:00:00', '2018-05-09 20:00:00',\n",
       "               '2018-05-09 21:00:00', '2018-05-09 22:00:00',\n",
       "               '2018-05-09 23:00:00', '2018-05-10 00:00:00'],\n",
       "              dtype='datetime64[ns]', length=217, freq='H')"
      ]
     },
     "execution_count": 40,
     "metadata": {},
     "output_type": "execute_result"
    }
   ],
   "source": [
    "#  H就代表著小時\n",
    "pd.date_range(start='2018-5-1', end='2018-5-10', freq='H')"
   ]
  },
  {
   "cell_type": "code",
   "execution_count": 41,
   "metadata": {},
   "outputs": [
    {
     "data": {
      "text/plain": [
       "DatetimeIndex(['2018-05-01 00:00:00', '2018-05-01 06:00:00',\n",
       "               '2018-05-01 12:00:00', '2018-05-01 18:00:00',\n",
       "               '2018-05-02 00:00:00', '2018-05-02 06:00:00',\n",
       "               '2018-05-02 12:00:00', '2018-05-02 18:00:00',\n",
       "               '2018-05-03 00:00:00', '2018-05-03 06:00:00',\n",
       "               '2018-05-03 12:00:00', '2018-05-03 18:00:00',\n",
       "               '2018-05-04 00:00:00', '2018-05-04 06:00:00',\n",
       "               '2018-05-04 12:00:00', '2018-05-04 18:00:00',\n",
       "               '2018-05-05 00:00:00', '2018-05-05 06:00:00',\n",
       "               '2018-05-05 12:00:00', '2018-05-05 18:00:00',\n",
       "               '2018-05-06 00:00:00', '2018-05-06 06:00:00',\n",
       "               '2018-05-06 12:00:00', '2018-05-06 18:00:00',\n",
       "               '2018-05-07 00:00:00', '2018-05-07 06:00:00',\n",
       "               '2018-05-07 12:00:00', '2018-05-07 18:00:00',\n",
       "               '2018-05-08 00:00:00', '2018-05-08 06:00:00',\n",
       "               '2018-05-08 12:00:00', '2018-05-08 18:00:00',\n",
       "               '2018-05-09 00:00:00', '2018-05-09 06:00:00',\n",
       "               '2018-05-09 12:00:00', '2018-05-09 18:00:00',\n",
       "               '2018-05-10 00:00:00'],\n",
       "              dtype='datetime64[ns]', freq='6H')"
      ]
     },
     "execution_count": 41,
     "metadata": {},
     "output_type": "execute_result"
    }
   ],
   "source": [
    "#  H就代表著小時，設置6H，每六小時\n",
    "pd.date_range(start='2018-5-1', end='2018-5-10', freq='6H')"
   ]
  },
  {
   "cell_type": "code",
   "execution_count": 42,
   "metadata": {},
   "outputs": [
    {
     "data": {
      "text/plain": [
       "DatetimeIndex([], dtype='datetime64[ns]', freq='M')"
      ]
     },
     "execution_count": 42,
     "metadata": {},
     "output_type": "execute_result"
    }
   ],
   "source": [
    "#  M的話是每個月的最後一天，因為這區間沒有，所以沒有值\n",
    "pd.date_range(start='2018-5-1', end='2018-5-10', freq='M')"
   ]
  },
  {
   "cell_type": "code",
   "execution_count": 43,
   "metadata": {},
   "outputs": [
    {
     "data": {
      "text/plain": [
       "DatetimeIndex(['2018-01-31', '2018-02-28', '2018-03-31', '2018-04-30',\n",
       "               '2018-05-31', '2018-06-30', '2018-07-31', '2018-08-31',\n",
       "               '2018-09-30', '2018-10-31', '2018-11-30', '2018-12-31'],\n",
       "              dtype='datetime64[ns]', freq='M')"
      ]
     },
     "execution_count": 43,
     "metadata": {},
     "output_type": "execute_result"
    }
   ],
   "source": [
    "pd.date_range(start='2018-1-1', end='2018-12-31', freq='M')"
   ]
  },
  {
   "cell_type": "code",
   "execution_count": 44,
   "metadata": {},
   "outputs": [
    {
     "data": {
      "text/plain": [
       "DatetimeIndex(['2018-01-01', '2018-02-01', '2018-03-01', '2018-04-01',\n",
       "               '2018-05-01', '2018-06-01', '2018-07-01', '2018-08-01',\n",
       "               '2018-09-01', '2018-10-01', '2018-11-01', '2018-12-01'],\n",
       "              dtype='datetime64[ns]', freq='MS')"
      ]
     },
     "execution_count": 44,
     "metadata": {},
     "output_type": "execute_result"
    }
   ],
   "source": [
    "#  加個S就可以變月的起始日\n",
    "pd.date_range(start='2018-1-1', end='2018-12-31', freq='MS')"
   ]
  },
  {
   "cell_type": "code",
   "execution_count": 47,
   "metadata": {},
   "outputs": [
    {
     "data": {
      "text/plain": [
       "DatetimeIndex(['2018-12-31', '2019-12-31', '2020-12-31', '2021-12-31',\n",
       "               '2022-12-31', '2023-12-31', '2024-12-31', '2025-12-31',\n",
       "               '2026-12-31', '2027-12-31', '2028-12-31', '2029-12-31',\n",
       "               '2030-12-31', '2031-12-31', '2032-12-31', '2033-12-31',\n",
       "               '2034-12-31', '2035-12-31', '2036-12-31', '2037-12-31',\n",
       "               '2038-12-31', '2039-12-31', '2040-12-31', '2041-12-31',\n",
       "               '2042-12-31', '2043-12-31', '2044-12-31', '2045-12-31',\n",
       "               '2046-12-31', '2047-12-31', '2048-12-31', '2049-12-31',\n",
       "               '2050-12-31'],\n",
       "              dtype='datetime64[ns]', freq='A-DEC')"
      ]
     },
     "execution_count": 47,
     "metadata": {},
     "output_type": "execute_result"
    }
   ],
   "source": [
    "#  A的話即為每年的最後一天\n",
    "pd.date_range(start='2018-1-1', end='2050-12-31', freq='A')"
   ]
  },
  {
   "cell_type": "code",
   "execution_count": 48,
   "metadata": {
    "scrolled": true
   },
   "outputs": [
    {
     "data": {
      "text/plain": [
       "DatetimeIndex(['2018-01-01', '2019-01-01', '2020-01-01', '2021-01-01',\n",
       "               '2022-01-01', '2023-01-01', '2024-01-01', '2025-01-01',\n",
       "               '2026-01-01', '2027-01-01', '2028-01-01', '2029-01-01',\n",
       "               '2030-01-01', '2031-01-01', '2032-01-01', '2033-01-01',\n",
       "               '2034-01-01', '2035-01-01', '2036-01-01', '2037-01-01',\n",
       "               '2038-01-01', '2039-01-01', '2040-01-01', '2041-01-01',\n",
       "               '2042-01-01', '2043-01-01', '2044-01-01', '2045-01-01',\n",
       "               '2046-01-01', '2047-01-01', '2048-01-01', '2049-01-01',\n",
       "               '2050-01-01'],\n",
       "              dtype='datetime64[ns]', freq='AS-JAN')"
      ]
     },
     "execution_count": 48,
     "metadata": {},
     "output_type": "execute_result"
    }
   ],
   "source": [
    "#  一樣，加個S則為每年的第一天\n",
    "pd.date_range(start='2018-1-1', end='2050-12-31', freq='AS')"
   ]
  },
  {
   "cell_type": "markdown",
   "metadata": {},
   "source": [
    "## Create Range of Dates with pd.date_range() Method, Part2"
   ]
  },
  {
   "cell_type": "code",
   "execution_count": 50,
   "metadata": {},
   "outputs": [
    {
     "data": {
      "text/plain": [
       "DatetimeIndex(['2018-05-02', '2018-05-03', '2018-05-04', '2018-05-05',\n",
       "               '2018-05-06', '2018-05-07', '2018-05-08', '2018-05-09',\n",
       "               '2018-05-10', '2018-05-11', '2018-05-12', '2018-05-13',\n",
       "               '2018-05-14', '2018-05-15', '2018-05-16', '2018-05-17',\n",
       "               '2018-05-18', '2018-05-19', '2018-05-20', '2018-05-21',\n",
       "               '2018-05-22', '2018-05-23', '2018-05-24', '2018-05-25',\n",
       "               '2018-05-26'],\n",
       "              dtype='datetime64[ns]', freq='D')"
      ]
     },
     "execution_count": 50,
     "metadata": {},
     "output_type": "execute_result"
    }
   ],
   "source": [
    "#  利用periods來設置希望產生的日期『數量』\n",
    "#  此例來看，從5/2開始要25個D\n",
    "pd.date_range(start='2018-5-2', periods=25, freq=\"D\")"
   ]
  },
  {
   "cell_type": "code",
   "execution_count": 52,
   "metadata": {},
   "outputs": [
    {
     "data": {
      "text/plain": [
       "DatetimeIndex(['2019-01-01', '2020-01-01', '2021-01-01', '2022-01-01',\n",
       "               '2023-01-01', '2024-01-01', '2025-01-01', '2026-01-01',\n",
       "               '2027-01-01', '2028-01-01', '2029-01-01', '2030-01-01',\n",
       "               '2031-01-01', '2032-01-01', '2033-01-01', '2034-01-01',\n",
       "               '2035-01-01', '2036-01-01', '2037-01-01', '2038-01-01',\n",
       "               '2039-01-01', '2040-01-01', '2041-01-01', '2042-01-01',\n",
       "               '2043-01-01'],\n",
       "              dtype='datetime64[ns]', freq='AS-JAN')"
      ]
     },
     "execution_count": 52,
     "metadata": {},
     "output_type": "execute_result"
    }
   ],
   "source": [
    "pd.date_range(start='2018-5-2', periods=25, freq=\"AS\")"
   ]
  },
  {
   "cell_type": "code",
   "execution_count": 54,
   "metadata": {},
   "outputs": [
    {
     "data": {
      "text/plain": [
       "DatetimeIndex(['2018-05-02', '2018-05-03', '2018-05-04', '2018-05-07',\n",
       "               '2018-05-08', '2018-05-09', '2018-05-10', '2018-05-11',\n",
       "               '2018-05-14', '2018-05-15', '2018-05-16', '2018-05-17',\n",
       "               '2018-05-18', '2018-05-21', '2018-05-22', '2018-05-23',\n",
       "               '2018-05-24', '2018-05-25', '2018-05-28', '2018-05-29',\n",
       "               '2018-05-30', '2018-05-31', '2018-06-01', '2018-06-04',\n",
       "               '2018-06-05'],\n",
       "              dtype='datetime64[ns]', freq='B')"
      ]
     },
     "execution_count": 54,
     "metadata": {},
     "output_type": "execute_result"
    }
   ],
   "source": [
    "pd.date_range(start='2018-5-2', periods=25, freq=\"B\")"
   ]
  },
  {
   "cell_type": "code",
   "execution_count": 55,
   "metadata": {},
   "outputs": [
    {
     "data": {
      "text/plain": [
       "DatetimeIndex(['2018-05-02 00:00:00', '2018-05-02 06:00:00',\n",
       "               '2018-05-02 12:00:00', '2018-05-02 18:00:00',\n",
       "               '2018-05-03 00:00:00', '2018-05-03 06:00:00',\n",
       "               '2018-05-03 12:00:00', '2018-05-03 18:00:00',\n",
       "               '2018-05-04 00:00:00', '2018-05-04 06:00:00',\n",
       "               '2018-05-04 12:00:00', '2018-05-04 18:00:00',\n",
       "               '2018-05-05 00:00:00', '2018-05-05 06:00:00',\n",
       "               '2018-05-05 12:00:00', '2018-05-05 18:00:00',\n",
       "               '2018-05-06 00:00:00', '2018-05-06 06:00:00',\n",
       "               '2018-05-06 12:00:00', '2018-05-06 18:00:00',\n",
       "               '2018-05-07 00:00:00', '2018-05-07 06:00:00',\n",
       "               '2018-05-07 12:00:00', '2018-05-07 18:00:00',\n",
       "               '2018-05-08 00:00:00'],\n",
       "              dtype='datetime64[ns]', freq='6H')"
      ]
     },
     "execution_count": 55,
     "metadata": {},
     "output_type": "execute_result"
    }
   ],
   "source": [
    "pd.date_range(start='2018-5-2', periods=25, freq=\"6H\")"
   ]
  },
  {
   "cell_type": "markdown",
   "metadata": {},
   "source": [
    "## Create Range of Dates with pd.date_range() Method, Part3"
   ]
  },
  {
   "cell_type": "code",
   "execution_count": 57,
   "metadata": {},
   "outputs": [
    {
     "data": {
      "text/plain": [
       "DatetimeIndex(['2010-12-12', '2010-12-13', '2010-12-14', '2010-12-15',\n",
       "               '2010-12-16', '2010-12-17', '2010-12-18', '2010-12-19',\n",
       "               '2010-12-20', '2010-12-21', '2010-12-22', '2010-12-23',\n",
       "               '2010-12-24', '2010-12-25', '2010-12-26', '2010-12-27',\n",
       "               '2010-12-28', '2010-12-29', '2010-12-30', '2010-12-31'],\n",
       "              dtype='datetime64[ns]', freq='D')"
      ]
     },
     "execution_count": 57,
     "metadata": {},
     "output_type": "execute_result"
    }
   ],
   "source": [
    "#  除了start，也可以利用end來向前推算日期\n",
    "pd.date_range(end='2010-12-31', periods=20, freq=\"D\")"
   ]
  },
  {
   "cell_type": "code",
   "execution_count": 58,
   "metadata": {},
   "outputs": [
    {
     "data": {
      "text/plain": [
       "DatetimeIndex(['2010-12-06', '2010-12-07', '2010-12-08', '2010-12-09',\n",
       "               '2010-12-10', '2010-12-13', '2010-12-14', '2010-12-15',\n",
       "               '2010-12-16', '2010-12-17', '2010-12-20', '2010-12-21',\n",
       "               '2010-12-22', '2010-12-23', '2010-12-24', '2010-12-27',\n",
       "               '2010-12-28', '2010-12-29', '2010-12-30', '2010-12-31'],\n",
       "              dtype='datetime64[ns]', freq='B')"
      ]
     },
     "execution_count": 58,
     "metadata": {},
     "output_type": "execute_result"
    }
   ],
   "source": [
    "pd.date_range(end='2010-12-31', periods=20, freq=\"B\")"
   ]
  },
  {
   "cell_type": "markdown",
   "metadata": {},
   "source": [
    "## The .dt Accessor"
   ]
  },
  {
   "cell_type": "code",
   "execution_count": 76,
   "metadata": {
    "collapsed": true
   },
   "outputs": [],
   "source": [
    "dates = pd.date_range(start='2018-1-1', end='2018-12-31', freq='24D')"
   ]
  },
  {
   "cell_type": "code",
   "execution_count": 62,
   "metadata": {},
   "outputs": [
    {
     "data": {
      "text/plain": [
       "0   2018-01-01\n",
       "1   2018-01-25\n",
       "2   2018-02-18\n",
       "3   2018-03-14\n",
       "4   2018-04-07\n",
       "dtype: datetime64[ns]"
      ]
     },
     "execution_count": 62,
     "metadata": {},
     "output_type": "execute_result"
    }
   ],
   "source": [
    "#  利用區間取得需求日期，接著將資料置入Series\n",
    "#  可以看的出來格式皆為datetime64\n",
    "ser = pd.Series(dates)\n",
    "ser.head(5)"
   ]
  },
  {
   "cell_type": "code",
   "execution_count": 65,
   "metadata": {},
   "outputs": [
    {
     "ename": "AttributeError",
     "evalue": "'Series' object has no attribute 'day'",
     "output_type": "error",
     "traceback": [
      "\u001b[1;31m---------------------------------------------------------------------------\u001b[0m",
      "\u001b[1;31mAttributeError\u001b[0m                            Traceback (most recent call last)",
      "\u001b[1;32m<ipython-input-65-6d1f51ab3d66>\u001b[0m in \u001b[0;36m<module>\u001b[1;34m()\u001b[0m\n\u001b[1;32m----> 1\u001b[1;33m \u001b[0mser\u001b[0m\u001b[1;33m.\u001b[0m\u001b[0mday\u001b[0m\u001b[1;33m\u001b[0m\u001b[0m\n\u001b[0m",
      "\u001b[1;32mC:\\ProgramData\\Anaconda3\\lib\\site-packages\\pandas\\core\\generic.py\u001b[0m in \u001b[0;36m__getattr__\u001b[1;34m(self, name)\u001b[0m\n\u001b[0;32m   3612\u001b[0m             \u001b[1;32mif\u001b[0m \u001b[0mname\u001b[0m \u001b[1;32min\u001b[0m \u001b[0mself\u001b[0m\u001b[1;33m.\u001b[0m\u001b[0m_info_axis\u001b[0m\u001b[1;33m:\u001b[0m\u001b[1;33m\u001b[0m\u001b[0m\n\u001b[0;32m   3613\u001b[0m                 \u001b[1;32mreturn\u001b[0m \u001b[0mself\u001b[0m\u001b[1;33m[\u001b[0m\u001b[0mname\u001b[0m\u001b[1;33m]\u001b[0m\u001b[1;33m\u001b[0m\u001b[0m\n\u001b[1;32m-> 3614\u001b[1;33m             \u001b[1;32mreturn\u001b[0m \u001b[0mobject\u001b[0m\u001b[1;33m.\u001b[0m\u001b[0m__getattribute__\u001b[0m\u001b[1;33m(\u001b[0m\u001b[0mself\u001b[0m\u001b[1;33m,\u001b[0m \u001b[0mname\u001b[0m\u001b[1;33m)\u001b[0m\u001b[1;33m\u001b[0m\u001b[0m\n\u001b[0m\u001b[0;32m   3615\u001b[0m \u001b[1;33m\u001b[0m\u001b[0m\n\u001b[0;32m   3616\u001b[0m     \u001b[1;32mdef\u001b[0m \u001b[0m__setattr__\u001b[0m\u001b[1;33m(\u001b[0m\u001b[0mself\u001b[0m\u001b[1;33m,\u001b[0m \u001b[0mname\u001b[0m\u001b[1;33m,\u001b[0m \u001b[0mvalue\u001b[0m\u001b[1;33m)\u001b[0m\u001b[1;33m:\u001b[0m\u001b[1;33m\u001b[0m\u001b[0m\n",
      "\u001b[1;31mAttributeError\u001b[0m: 'Series' object has no attribute 'day'"
     ]
    }
   ],
   "source": [
    "#  但是它沒有相關屬性可以直接操作\n",
    "ser.day()"
   ]
  },
  {
   "cell_type": "code",
   "execution_count": 67,
   "metadata": {},
   "outputs": [
    {
     "data": {
      "text/plain": [
       "0      1\n",
       "1     25\n",
       "2     18\n",
       "3     14\n",
       "4      7\n",
       "5      1\n",
       "6     25\n",
       "7     18\n",
       "8     12\n",
       "9      5\n",
       "10    29\n",
       "11    22\n",
       "12    16\n",
       "13     9\n",
       "14     3\n",
       "15    27\n",
       "dtype: int64"
      ]
     },
     "execution_count": 67,
     "metadata": {},
     "output_type": "execute_result"
    }
   ],
   "source": [
    "#  必需透過.dt來做中間的界接\n",
    "#  取得日期\n",
    "ser.dt.day\n",
    "#  取得月份\n",
    "#  ser.dt.month\n",
    "#  取得年\n",
    "#  ser.dt.year"
   ]
  },
  {
   "cell_type": "code",
   "execution_count": 71,
   "metadata": {},
   "outputs": [
    {
     "data": {
      "text/plain": [
       "0        Monday\n",
       "1      Thursday\n",
       "2        Sunday\n",
       "3     Wednesday\n",
       "4      Saturday\n",
       "5       Tuesday\n",
       "6        Friday\n",
       "7        Monday\n",
       "8      Thursday\n",
       "9        Sunday\n",
       "10    Wednesday\n",
       "11     Saturday\n",
       "12      Tuesday\n",
       "13       Friday\n",
       "14       Monday\n",
       "15     Thursday\n",
       "dtype: object"
      ]
     },
     "execution_count": 71,
     "metadata": {},
     "output_type": "execute_result"
    }
   ],
   "source": [
    "#  也可以看星期幾\n",
    "ser.dt.weekday_name"
   ]
  },
  {
   "cell_type": "code",
   "execution_count": 72,
   "metadata": {},
   "outputs": [
    {
     "data": {
      "text/plain": [
       "0      True\n",
       "1     False\n",
       "2     False\n",
       "3     False\n",
       "4     False\n",
       "5     False\n",
       "6     False\n",
       "7     False\n",
       "8     False\n",
       "9     False\n",
       "10    False\n",
       "11    False\n",
       "12    False\n",
       "13    False\n",
       "14    False\n",
       "15    False\n",
       "dtype: bool"
      ]
     },
     "execution_count": 72,
     "metadata": {},
     "output_type": "execute_result"
    }
   ],
   "source": [
    "#  也可以產生遮罩，下例是是否為每一季的開始\n",
    "ser.dt.is_quarter_start"
   ]
  },
  {
   "cell_type": "code",
   "execution_count": 74,
   "metadata": {},
   "outputs": [
    {
     "data": {
      "text/plain": [
       "0   2018-01-01\n",
       "dtype: datetime64[ns]"
      ]
     },
     "execution_count": 74,
     "metadata": {},
     "output_type": "execute_result"
    }
   ],
   "source": [
    "#  是否為每一季的開始\n",
    "mark = ser.dt.is_quarter_start\n",
    "ser[mark]"
   ]
  },
  {
   "cell_type": "code",
   "execution_count": null,
   "metadata": {
    "collapsed": true
   },
   "outputs": [],
   "source": [
    "#  是否為每月的最後一天"
   ]
  },
  {
   "cell_type": "code",
   "execution_count": 75,
   "metadata": {},
   "outputs": [
    {
     "data": {
      "text/plain": [
       "Series([], dtype: datetime64[ns])"
      ]
     },
     "execution_count": 75,
     "metadata": {},
     "output_type": "execute_result"
    }
   ],
   "source": [
    "mark = ser.dt.is_month_end\n",
    "ser[mark]"
   ]
  },
  {
   "cell_type": "markdown",
   "metadata": {
    "collapsed": true
   },
   "source": [
    "## Install pandas-datareader Library"
   ]
  },
  {
   "cell_type": "code",
   "execution_count": 2,
   "metadata": {},
   "outputs": [
    {
     "name": "stdout",
     "output_type": "stream",
     "text": [
      "Requirement already satisfied: pandas-datareader in c:\\programdata\\anaconda3\\lib\\site-packages\n",
      "Requirement already satisfied: pandas>=0.19.2 in c:\\programdata\\anaconda3\\lib\\site-packages (from pandas-datareader)\n",
      "Requirement already satisfied: requests>=2.3.0 in c:\\programdata\\anaconda3\\lib\\site-packages (from pandas-datareader)\n",
      "Requirement already satisfied: requests-file in c:\\programdata\\anaconda3\\lib\\site-packages (from pandas-datareader)\n",
      "Requirement already satisfied: requests-ftp in c:\\programdata\\anaconda3\\lib\\site-packages (from pandas-datareader)\n",
      "Requirement already satisfied: wrapt in c:\\programdata\\anaconda3\\lib\\site-packages (from pandas-datareader)\n",
      "Requirement already satisfied: lxml in c:\\programdata\\anaconda3\\lib\\site-packages (from pandas-datareader)\n",
      "Requirement already satisfied: python-dateutil>=2 in c:\\programdata\\anaconda3\\lib\\site-packages (from pandas>=0.19.2->pandas-datareader)\n",
      "Requirement already satisfied: pytz>=2011k in c:\\programdata\\anaconda3\\lib\\site-packages (from pandas>=0.19.2->pandas-datareader)\n",
      "Requirement already satisfied: numpy>=1.9.0 in c:\\programdata\\anaconda3\\lib\\site-packages (from pandas>=0.19.2->pandas-datareader)\n",
      "Requirement already satisfied: six>=1.5 in c:\\programdata\\anaconda3\\lib\\site-packages (from python-dateutil>=2->pandas>=0.19.2->pandas-datareader)\n"
     ]
    },
    {
     "name": "stderr",
     "output_type": "stream",
     "text": [
      "You are using pip version 9.0.1, however version 10.0.1 is available.\n",
      "You should consider upgrading via the 'python -m pip install --upgrade pip' command.\n"
     ]
    }
   ],
   "source": [
    "!pip install pandas-datareader"
   ]
  },
  {
   "cell_type": "markdown",
   "metadata": {
    "collapsed": true
   },
   "source": [
    "## Import Financial Data Set with pandas_datareader Library\n",
    "目前不少data_source都失效，建議至官方文件說明處了解『[官方文件](https://pydata.github.io/pandas-datareader/devel/remote_data.html)』"
   ]
  },
  {
   "cell_type": "code",
   "execution_count": 3,
   "metadata": {
    "collapsed": true
   },
   "outputs": [],
   "source": [
    "import pandas as pd\n",
    "import datetime as dt\n",
    "from pandas_datareader import data"
   ]
  },
  {
   "cell_type": "code",
   "execution_count": 27,
   "metadata": {
    "scrolled": true
   },
   "outputs": [
    {
     "name": "stdout",
     "output_type": "stream",
     "text": [
      "1y\n"
     ]
    },
    {
     "data": {
      "text/html": [
       "<div>\n",
       "<style scoped>\n",
       "    .dataframe tbody tr th:only-of-type {\n",
       "        vertical-align: middle;\n",
       "    }\n",
       "\n",
       "    .dataframe tbody tr th {\n",
       "        vertical-align: top;\n",
       "    }\n",
       "\n",
       "    .dataframe thead th {\n",
       "        text-align: right;\n",
       "    }\n",
       "</style>\n",
       "<table border=\"1\" class=\"dataframe\">\n",
       "  <thead>\n",
       "    <tr style=\"text-align: right;\">\n",
       "      <th></th>\n",
       "      <th>open</th>\n",
       "      <th>high</th>\n",
       "      <th>low</th>\n",
       "      <th>close</th>\n",
       "      <th>volume</th>\n",
       "    </tr>\n",
       "    <tr>\n",
       "      <th>date</th>\n",
       "      <th></th>\n",
       "      <th></th>\n",
       "      <th></th>\n",
       "      <th></th>\n",
       "      <th></th>\n",
       "    </tr>\n",
       "  </thead>\n",
       "  <tbody>\n",
       "    <tr>\n",
       "      <th>2018-01-02</th>\n",
       "      <td>12.0591</td>\n",
       "      <td>12.1939</td>\n",
       "      <td>12.0398</td>\n",
       "      <td>12.1939</td>\n",
       "      <td>20773320</td>\n",
       "    </tr>\n",
       "    <tr>\n",
       "      <th>2018-01-03</th>\n",
       "      <td>12.2132</td>\n",
       "      <td>12.3288</td>\n",
       "      <td>12.2036</td>\n",
       "      <td>12.2903</td>\n",
       "      <td>29765638</td>\n",
       "    </tr>\n",
       "    <tr>\n",
       "      <th>2018-01-04</th>\n",
       "      <td>12.3095</td>\n",
       "      <td>12.5599</td>\n",
       "      <td>12.2999</td>\n",
       "      <td>12.5022</td>\n",
       "      <td>37478200</td>\n",
       "    </tr>\n",
       "    <tr>\n",
       "      <th>2018-01-05</th>\n",
       "      <td>12.5792</td>\n",
       "      <td>12.7333</td>\n",
       "      <td>12.5599</td>\n",
       "      <td>12.7141</td>\n",
       "      <td>46121873</td>\n",
       "    </tr>\n",
       "    <tr>\n",
       "      <th>2018-01-08</th>\n",
       "      <td>12.7237</td>\n",
       "      <td>12.7333</td>\n",
       "      <td>12.6274</td>\n",
       "      <td>12.6659</td>\n",
       "      <td>33828330</td>\n",
       "    </tr>\n",
       "    <tr>\n",
       "      <th>2018-01-09</th>\n",
       "      <td>12.6948</td>\n",
       "      <td>12.7333</td>\n",
       "      <td>12.5985</td>\n",
       "      <td>12.5985</td>\n",
       "      <td>27924109</td>\n",
       "    </tr>\n",
       "    <tr>\n",
       "      <th>2018-01-10</th>\n",
       "      <td>12.5792</td>\n",
       "      <td>12.6553</td>\n",
       "      <td>12.4829</td>\n",
       "      <td>12.5503</td>\n",
       "      <td>56517139</td>\n",
       "    </tr>\n",
       "    <tr>\n",
       "      <th>2018-01-11</th>\n",
       "      <td>12.5407</td>\n",
       "      <td>12.7141</td>\n",
       "      <td>12.5214</td>\n",
       "      <td>12.6755</td>\n",
       "      <td>28342293</td>\n",
       "    </tr>\n",
       "    <tr>\n",
       "      <th>2018-01-12</th>\n",
       "      <td>12.6177</td>\n",
       "      <td>12.8007</td>\n",
       "      <td>12.6177</td>\n",
       "      <td>12.7430</td>\n",
       "      <td>56979186</td>\n",
       "    </tr>\n",
       "    <tr>\n",
       "      <th>2018-01-16</th>\n",
       "      <td>12.8200</td>\n",
       "      <td>12.9837</td>\n",
       "      <td>12.5311</td>\n",
       "      <td>12.6177</td>\n",
       "      <td>53961375</td>\n",
       "    </tr>\n",
       "    <tr>\n",
       "      <th>2018-01-17</th>\n",
       "      <td>12.1169</td>\n",
       "      <td>12.1169</td>\n",
       "      <td>11.6546</td>\n",
       "      <td>11.7316</td>\n",
       "      <td>132412533</td>\n",
       "    </tr>\n",
       "    <tr>\n",
       "      <th>2018-01-18</th>\n",
       "      <td>11.7316</td>\n",
       "      <td>11.7509</td>\n",
       "      <td>11.5775</td>\n",
       "      <td>11.6257</td>\n",
       "      <td>66541729</td>\n",
       "    </tr>\n",
       "    <tr>\n",
       "      <th>2018-01-19</th>\n",
       "      <td>11.6738</td>\n",
       "      <td>11.6738</td>\n",
       "      <td>11.4715</td>\n",
       "      <td>11.5582</td>\n",
       "      <td>51303747</td>\n",
       "    </tr>\n",
       "    <tr>\n",
       "      <th>2018-01-22</th>\n",
       "      <td>11.5775</td>\n",
       "      <td>11.6353</td>\n",
       "      <td>11.4619</td>\n",
       "      <td>11.5775</td>\n",
       "      <td>52851915</td>\n",
       "    </tr>\n",
       "    <tr>\n",
       "      <th>2018-01-23</th>\n",
       "      <td>11.5871</td>\n",
       "      <td>11.5871</td>\n",
       "      <td>11.4619</td>\n",
       "      <td>11.5197</td>\n",
       "      <td>51830968</td>\n",
       "    </tr>\n",
       "    <tr>\n",
       "      <th>2018-01-24</th>\n",
       "      <td>11.5582</td>\n",
       "      <td>11.6449</td>\n",
       "      <td>11.4812</td>\n",
       "      <td>11.6064</td>\n",
       "      <td>63300483</td>\n",
       "    </tr>\n",
       "    <tr>\n",
       "      <th>2018-01-25</th>\n",
       "      <td>11.4908</td>\n",
       "      <td>11.4908</td>\n",
       "      <td>11.0188</td>\n",
       "      <td>11.1441</td>\n",
       "      <td>114886820</td>\n",
       "    </tr>\n",
       "    <tr>\n",
       "      <th>2018-01-26</th>\n",
       "      <td>11.1633</td>\n",
       "      <td>11.2693</td>\n",
       "      <td>11.0766</td>\n",
       "      <td>11.2211</td>\n",
       "      <td>52496001</td>\n",
       "    </tr>\n",
       "    <tr>\n",
       "      <th>2018-01-29</th>\n",
       "      <td>11.2688</td>\n",
       "      <td>11.3181</td>\n",
       "      <td>10.9629</td>\n",
       "      <td>10.9728</td>\n",
       "      <td>55113971</td>\n",
       "    </tr>\n",
       "    <tr>\n",
       "      <th>2018-01-30</th>\n",
       "      <td>10.9432</td>\n",
       "      <td>11.0813</td>\n",
       "      <td>10.9037</td>\n",
       "      <td>10.9136</td>\n",
       "      <td>52068187</td>\n",
       "    </tr>\n",
       "    <tr>\n",
       "      <th>2018-01-31</th>\n",
       "      <td>10.9432</td>\n",
       "      <td>10.9678</td>\n",
       "      <td>10.7557</td>\n",
       "      <td>10.8248</td>\n",
       "      <td>57644576</td>\n",
       "    </tr>\n",
       "    <tr>\n",
       "      <th>2018-02-01</th>\n",
       "      <td>10.8050</td>\n",
       "      <td>10.8544</td>\n",
       "      <td>10.7064</td>\n",
       "      <td>10.7754</td>\n",
       "      <td>41352192</td>\n",
       "    </tr>\n",
       "    <tr>\n",
       "      <th>2018-02-02</th>\n",
       "      <td>10.7360</td>\n",
       "      <td>10.7360</td>\n",
       "      <td>10.4794</td>\n",
       "      <td>10.5682</td>\n",
       "      <td>72312922</td>\n",
       "    </tr>\n",
       "    <tr>\n",
       "      <th>2018-02-05</th>\n",
       "      <td>10.6373</td>\n",
       "      <td>10.6570</td>\n",
       "      <td>10.1044</td>\n",
       "      <td>10.1044</td>\n",
       "      <td>96756955</td>\n",
       "    </tr>\n",
       "    <tr>\n",
       "      <th>2018-02-06</th>\n",
       "      <td>10.1340</td>\n",
       "      <td>10.6472</td>\n",
       "      <td>10.0551</td>\n",
       "      <td>10.6175</td>\n",
       "      <td>139938127</td>\n",
       "    </tr>\n",
       "    <tr>\n",
       "      <th>2018-02-07</th>\n",
       "      <td>10.6077</td>\n",
       "      <td>10.8938</td>\n",
       "      <td>10.5583</td>\n",
       "      <td>10.6175</td>\n",
       "      <td>68041787</td>\n",
       "    </tr>\n",
       "    <tr>\n",
       "      <th>2018-02-08</th>\n",
       "      <td>10.6472</td>\n",
       "      <td>10.7162</td>\n",
       "      <td>10.2820</td>\n",
       "      <td>10.2919</td>\n",
       "      <td>73990734</td>\n",
       "    </tr>\n",
       "    <tr>\n",
       "      <th>2018-02-09</th>\n",
       "      <td>10.4301</td>\n",
       "      <td>10.4991</td>\n",
       "      <td>10.1044</td>\n",
       "      <td>10.3906</td>\n",
       "      <td>72103620</td>\n",
       "    </tr>\n",
       "    <tr>\n",
       "      <th>2018-02-12</th>\n",
       "      <td>10.5287</td>\n",
       "      <td>10.6768</td>\n",
       "      <td>10.4040</td>\n",
       "      <td>10.5583</td>\n",
       "      <td>49068946</td>\n",
       "    </tr>\n",
       "    <tr>\n",
       "      <th>2018-02-13</th>\n",
       "      <td>10.4893</td>\n",
       "      <td>10.5485</td>\n",
       "      <td>10.3906</td>\n",
       "      <td>10.4498</td>\n",
       "      <td>36884488</td>\n",
       "    </tr>\n",
       "    <tr>\n",
       "      <th>...</th>\n",
       "      <td>...</td>\n",
       "      <td>...</td>\n",
       "      <td>...</td>\n",
       "      <td>...</td>\n",
       "      <td>...</td>\n",
       "    </tr>\n",
       "    <tr>\n",
       "      <th>2018-03-20</th>\n",
       "      <td>10.9037</td>\n",
       "      <td>10.9826</td>\n",
       "      <td>10.8248</td>\n",
       "      <td>10.8445</td>\n",
       "      <td>45612813</td>\n",
       "    </tr>\n",
       "    <tr>\n",
       "      <th>2018-03-21</th>\n",
       "      <td>10.8544</td>\n",
       "      <td>11.0369</td>\n",
       "      <td>10.7853</td>\n",
       "      <td>10.9530</td>\n",
       "      <td>38550957</td>\n",
       "    </tr>\n",
       "    <tr>\n",
       "      <th>2018-03-22</th>\n",
       "      <td>10.8544</td>\n",
       "      <td>10.9136</td>\n",
       "      <td>10.5879</td>\n",
       "      <td>10.6077</td>\n",
       "      <td>51280905</td>\n",
       "    </tr>\n",
       "    <tr>\n",
       "      <th>2018-03-23</th>\n",
       "      <td>10.6472</td>\n",
       "      <td>10.7064</td>\n",
       "      <td>10.3709</td>\n",
       "      <td>10.4202</td>\n",
       "      <td>39950867</td>\n",
       "    </tr>\n",
       "    <tr>\n",
       "      <th>2018-03-26</th>\n",
       "      <td>10.5978</td>\n",
       "      <td>10.7261</td>\n",
       "      <td>10.5386</td>\n",
       "      <td>10.6866</td>\n",
       "      <td>52325512</td>\n",
       "    </tr>\n",
       "    <tr>\n",
       "      <th>2018-03-27</th>\n",
       "      <td>10.7064</td>\n",
       "      <td>10.7754</td>\n",
       "      <td>10.5781</td>\n",
       "      <td>10.6866</td>\n",
       "      <td>40677320</td>\n",
       "    </tr>\n",
       "    <tr>\n",
       "      <th>2018-03-28</th>\n",
       "      <td>10.6866</td>\n",
       "      <td>10.8050</td>\n",
       "      <td>10.5879</td>\n",
       "      <td>10.7162</td>\n",
       "      <td>42263662</td>\n",
       "    </tr>\n",
       "    <tr>\n",
       "      <th>2018-03-29</th>\n",
       "      <td>10.7853</td>\n",
       "      <td>10.9826</td>\n",
       "      <td>10.7705</td>\n",
       "      <td>10.9333</td>\n",
       "      <td>39863962</td>\n",
       "    </tr>\n",
       "    <tr>\n",
       "      <th>2018-04-02</th>\n",
       "      <td>10.9136</td>\n",
       "      <td>10.9432</td>\n",
       "      <td>10.5583</td>\n",
       "      <td>10.7162</td>\n",
       "      <td>43598094</td>\n",
       "    </tr>\n",
       "    <tr>\n",
       "      <th>2018-04-03</th>\n",
       "      <td>10.8642</td>\n",
       "      <td>11.0320</td>\n",
       "      <td>10.7557</td>\n",
       "      <td>11.0024</td>\n",
       "      <td>42523917</td>\n",
       "    </tr>\n",
       "    <tr>\n",
       "      <th>2018-04-04</th>\n",
       "      <td>10.7261</td>\n",
       "      <td>11.2096</td>\n",
       "      <td>10.6570</td>\n",
       "      <td>11.1800</td>\n",
       "      <td>44834639</td>\n",
       "    </tr>\n",
       "    <tr>\n",
       "      <th>2018-04-05</th>\n",
       "      <td>11.1899</td>\n",
       "      <td>11.2293</td>\n",
       "      <td>11.0813</td>\n",
       "      <td>11.1997</td>\n",
       "      <td>28755606</td>\n",
       "    </tr>\n",
       "    <tr>\n",
       "      <th>2018-04-06</th>\n",
       "      <td>11.1307</td>\n",
       "      <td>11.1997</td>\n",
       "      <td>10.9234</td>\n",
       "      <td>11.0320</td>\n",
       "      <td>31920686</td>\n",
       "    </tr>\n",
       "    <tr>\n",
       "      <th>2018-04-09</th>\n",
       "      <td>11.1011</td>\n",
       "      <td>11.2293</td>\n",
       "      <td>11.0517</td>\n",
       "      <td>11.1011</td>\n",
       "      <td>36462658</td>\n",
       "    </tr>\n",
       "    <tr>\n",
       "      <th>2018-04-10</th>\n",
       "      <td>11.2885</td>\n",
       "      <td>11.3971</td>\n",
       "      <td>11.2589</td>\n",
       "      <td>11.2984</td>\n",
       "      <td>44005015</td>\n",
       "    </tr>\n",
       "    <tr>\n",
       "      <th>2018-04-11</th>\n",
       "      <td>11.2293</td>\n",
       "      <td>11.3379</td>\n",
       "      <td>11.1504</td>\n",
       "      <td>11.2787</td>\n",
       "      <td>32979038</td>\n",
       "    </tr>\n",
       "    <tr>\n",
       "      <th>2018-04-12</th>\n",
       "      <td>11.3478</td>\n",
       "      <td>11.3872</td>\n",
       "      <td>11.1011</td>\n",
       "      <td>11.1603</td>\n",
       "      <td>47133732</td>\n",
       "    </tr>\n",
       "    <tr>\n",
       "      <th>2018-04-13</th>\n",
       "      <td>11.1997</td>\n",
       "      <td>11.2392</td>\n",
       "      <td>11.0813</td>\n",
       "      <td>11.1307</td>\n",
       "      <td>34598783</td>\n",
       "    </tr>\n",
       "    <tr>\n",
       "      <th>2018-04-16</th>\n",
       "      <td>11.2096</td>\n",
       "      <td>11.2984</td>\n",
       "      <td>11.1208</td>\n",
       "      <td>11.2293</td>\n",
       "      <td>32803268</td>\n",
       "    </tr>\n",
       "    <tr>\n",
       "      <th>2018-04-17</th>\n",
       "      <td>11.2787</td>\n",
       "      <td>11.2984</td>\n",
       "      <td>11.1504</td>\n",
       "      <td>11.2293</td>\n",
       "      <td>30906803</td>\n",
       "    </tr>\n",
       "    <tr>\n",
       "      <th>2018-04-18</th>\n",
       "      <td>11.2293</td>\n",
       "      <td>11.3280</td>\n",
       "      <td>11.1504</td>\n",
       "      <td>11.1800</td>\n",
       "      <td>46226082</td>\n",
       "    </tr>\n",
       "    <tr>\n",
       "      <th>2018-04-19</th>\n",
       "      <td>11.1800</td>\n",
       "      <td>11.2494</td>\n",
       "      <td>10.8500</td>\n",
       "      <td>10.9600</td>\n",
       "      <td>49154173</td>\n",
       "    </tr>\n",
       "    <tr>\n",
       "      <th>2018-04-20</th>\n",
       "      <td>11.0100</td>\n",
       "      <td>11.0300</td>\n",
       "      <td>10.7800</td>\n",
       "      <td>10.8200</td>\n",
       "      <td>44930027</td>\n",
       "    </tr>\n",
       "    <tr>\n",
       "      <th>2018-04-23</th>\n",
       "      <td>10.8400</td>\n",
       "      <td>11.0400</td>\n",
       "      <td>10.8300</td>\n",
       "      <td>11.0400</td>\n",
       "      <td>31936522</td>\n",
       "    </tr>\n",
       "    <tr>\n",
       "      <th>2018-04-24</th>\n",
       "      <td>11.0500</td>\n",
       "      <td>11.1700</td>\n",
       "      <td>10.9300</td>\n",
       "      <td>10.9600</td>\n",
       "      <td>39624986</td>\n",
       "    </tr>\n",
       "    <tr>\n",
       "      <th>2018-04-25</th>\n",
       "      <td>10.9600</td>\n",
       "      <td>11.1600</td>\n",
       "      <td>10.8700</td>\n",
       "      <td>11.1100</td>\n",
       "      <td>39985788</td>\n",
       "    </tr>\n",
       "    <tr>\n",
       "      <th>2018-04-26</th>\n",
       "      <td>11.4200</td>\n",
       "      <td>11.5300</td>\n",
       "      <td>11.2900</td>\n",
       "      <td>11.4300</td>\n",
       "      <td>80676755</td>\n",
       "    </tr>\n",
       "    <tr>\n",
       "      <th>2018-04-27</th>\n",
       "      <td>11.4000</td>\n",
       "      <td>11.5600</td>\n",
       "      <td>11.3800</td>\n",
       "      <td>11.4900</td>\n",
       "      <td>33375943</td>\n",
       "    </tr>\n",
       "    <tr>\n",
       "      <th>2018-04-30</th>\n",
       "      <td>11.5300</td>\n",
       "      <td>11.7250</td>\n",
       "      <td>11.2200</td>\n",
       "      <td>11.2400</td>\n",
       "      <td>66090895</td>\n",
       "    </tr>\n",
       "    <tr>\n",
       "      <th>2018-05-01</th>\n",
       "      <td>11.2500</td>\n",
       "      <td>11.3500</td>\n",
       "      <td>11.1000</td>\n",
       "      <td>11.2600</td>\n",
       "      <td>61430446</td>\n",
       "    </tr>\n",
       "  </tbody>\n",
       "</table>\n",
       "<p>83 rows × 5 columns</p>\n",
       "</div>"
      ],
      "text/plain": [
       "               open     high      low    close     volume\n",
       "date                                                     \n",
       "2018-01-02  12.0591  12.1939  12.0398  12.1939   20773320\n",
       "2018-01-03  12.2132  12.3288  12.2036  12.2903   29765638\n",
       "2018-01-04  12.3095  12.5599  12.2999  12.5022   37478200\n",
       "2018-01-05  12.5792  12.7333  12.5599  12.7141   46121873\n",
       "2018-01-08  12.7237  12.7333  12.6274  12.6659   33828330\n",
       "2018-01-09  12.6948  12.7333  12.5985  12.5985   27924109\n",
       "2018-01-10  12.5792  12.6553  12.4829  12.5503   56517139\n",
       "2018-01-11  12.5407  12.7141  12.5214  12.6755   28342293\n",
       "2018-01-12  12.6177  12.8007  12.6177  12.7430   56979186\n",
       "2018-01-16  12.8200  12.9837  12.5311  12.6177   53961375\n",
       "2018-01-17  12.1169  12.1169  11.6546  11.7316  132412533\n",
       "2018-01-18  11.7316  11.7509  11.5775  11.6257   66541729\n",
       "2018-01-19  11.6738  11.6738  11.4715  11.5582   51303747\n",
       "2018-01-22  11.5775  11.6353  11.4619  11.5775   52851915\n",
       "2018-01-23  11.5871  11.5871  11.4619  11.5197   51830968\n",
       "2018-01-24  11.5582  11.6449  11.4812  11.6064   63300483\n",
       "2018-01-25  11.4908  11.4908  11.0188  11.1441  114886820\n",
       "2018-01-26  11.1633  11.2693  11.0766  11.2211   52496001\n",
       "2018-01-29  11.2688  11.3181  10.9629  10.9728   55113971\n",
       "2018-01-30  10.9432  11.0813  10.9037  10.9136   52068187\n",
       "2018-01-31  10.9432  10.9678  10.7557  10.8248   57644576\n",
       "2018-02-01  10.8050  10.8544  10.7064  10.7754   41352192\n",
       "2018-02-02  10.7360  10.7360  10.4794  10.5682   72312922\n",
       "2018-02-05  10.6373  10.6570  10.1044  10.1044   96756955\n",
       "2018-02-06  10.1340  10.6472  10.0551  10.6175  139938127\n",
       "2018-02-07  10.6077  10.8938  10.5583  10.6175   68041787\n",
       "2018-02-08  10.6472  10.7162  10.2820  10.2919   73990734\n",
       "2018-02-09  10.4301  10.4991  10.1044  10.3906   72103620\n",
       "2018-02-12  10.5287  10.6768  10.4040  10.5583   49068946\n",
       "2018-02-13  10.4893  10.5485  10.3906  10.4498   36884488\n",
       "...             ...      ...      ...      ...        ...\n",
       "2018-03-20  10.9037  10.9826  10.8248  10.8445   45612813\n",
       "2018-03-21  10.8544  11.0369  10.7853  10.9530   38550957\n",
       "2018-03-22  10.8544  10.9136  10.5879  10.6077   51280905\n",
       "2018-03-23  10.6472  10.7064  10.3709  10.4202   39950867\n",
       "2018-03-26  10.5978  10.7261  10.5386  10.6866   52325512\n",
       "2018-03-27  10.7064  10.7754  10.5781  10.6866   40677320\n",
       "2018-03-28  10.6866  10.8050  10.5879  10.7162   42263662\n",
       "2018-03-29  10.7853  10.9826  10.7705  10.9333   39863962\n",
       "2018-04-02  10.9136  10.9432  10.5583  10.7162   43598094\n",
       "2018-04-03  10.8642  11.0320  10.7557  11.0024   42523917\n",
       "2018-04-04  10.7261  11.2096  10.6570  11.1800   44834639\n",
       "2018-04-05  11.1899  11.2293  11.0813  11.1997   28755606\n",
       "2018-04-06  11.1307  11.1997  10.9234  11.0320   31920686\n",
       "2018-04-09  11.1011  11.2293  11.0517  11.1011   36462658\n",
       "2018-04-10  11.2885  11.3971  11.2589  11.2984   44005015\n",
       "2018-04-11  11.2293  11.3379  11.1504  11.2787   32979038\n",
       "2018-04-12  11.3478  11.3872  11.1011  11.1603   47133732\n",
       "2018-04-13  11.1997  11.2392  11.0813  11.1307   34598783\n",
       "2018-04-16  11.2096  11.2984  11.1208  11.2293   32803268\n",
       "2018-04-17  11.2787  11.2984  11.1504  11.2293   30906803\n",
       "2018-04-18  11.2293  11.3280  11.1504  11.1800   46226082\n",
       "2018-04-19  11.1800  11.2494  10.8500  10.9600   49154173\n",
       "2018-04-20  11.0100  11.0300  10.7800  10.8200   44930027\n",
       "2018-04-23  10.8400  11.0400  10.8300  11.0400   31936522\n",
       "2018-04-24  11.0500  11.1700  10.9300  10.9600   39624986\n",
       "2018-04-25  10.9600  11.1600  10.8700  11.1100   39985788\n",
       "2018-04-26  11.4200  11.5300  11.2900  11.4300   80676755\n",
       "2018-04-27  11.4000  11.5600  11.3800  11.4900   33375943\n",
       "2018-04-30  11.5300  11.7250  11.2200  11.2400   66090895\n",
       "2018-05-01  11.2500  11.3500  11.1000  11.2600   61430446\n",
       "\n",
       "[83 rows x 5 columns]"
      ]
     },
     "execution_count": 27,
     "metadata": {},
     "output_type": "execute_result"
    }
   ],
   "source": [
    "company = 'F'  #  微軟的股票代碼\n",
    "start = '2018-1-1'\n",
    "end = '2018-5-1'\n",
    "#  data_source指資料來源\n",
    "data.DataReader(name=company,data_source='iex', start=start, end=end)\n",
    "#  回傳了開盤，最高、最低、收盤、交易量"
   ]
  },
  {
   "cell_type": "code",
   "execution_count": 28,
   "metadata": {},
   "outputs": [
    {
     "name": "stdout",
     "output_type": "stream",
     "text": [
      "1y\n"
     ]
    },
    {
     "data": {
      "text/html": [
       "<div>\n",
       "<style scoped>\n",
       "    .dataframe tbody tr th:only-of-type {\n",
       "        vertical-align: middle;\n",
       "    }\n",
       "\n",
       "    .dataframe tbody tr th {\n",
       "        vertical-align: top;\n",
       "    }\n",
       "\n",
       "    .dataframe thead th {\n",
       "        text-align: right;\n",
       "    }\n",
       "</style>\n",
       "<table border=\"1\" class=\"dataframe\">\n",
       "  <thead>\n",
       "    <tr style=\"text-align: right;\">\n",
       "      <th></th>\n",
       "      <th>open</th>\n",
       "      <th>high</th>\n",
       "      <th>low</th>\n",
       "      <th>close</th>\n",
       "      <th>volume</th>\n",
       "    </tr>\n",
       "    <tr>\n",
       "      <th>date</th>\n",
       "      <th></th>\n",
       "      <th></th>\n",
       "      <th></th>\n",
       "      <th></th>\n",
       "      <th></th>\n",
       "    </tr>\n",
       "  </thead>\n",
       "  <tbody>\n",
       "    <tr>\n",
       "      <th>2018-01-02</th>\n",
       "      <td>12.0591</td>\n",
       "      <td>12.1939</td>\n",
       "      <td>12.0398</td>\n",
       "      <td>12.1939</td>\n",
       "      <td>20773320</td>\n",
       "    </tr>\n",
       "    <tr>\n",
       "      <th>2018-01-03</th>\n",
       "      <td>12.2132</td>\n",
       "      <td>12.3288</td>\n",
       "      <td>12.2036</td>\n",
       "      <td>12.2903</td>\n",
       "      <td>29765638</td>\n",
       "    </tr>\n",
       "    <tr>\n",
       "      <th>2018-01-04</th>\n",
       "      <td>12.3095</td>\n",
       "      <td>12.5599</td>\n",
       "      <td>12.2999</td>\n",
       "      <td>12.5022</td>\n",
       "      <td>37478200</td>\n",
       "    </tr>\n",
       "    <tr>\n",
       "      <th>2018-01-05</th>\n",
       "      <td>12.5792</td>\n",
       "      <td>12.7333</td>\n",
       "      <td>12.5599</td>\n",
       "      <td>12.7141</td>\n",
       "      <td>46121873</td>\n",
       "    </tr>\n",
       "    <tr>\n",
       "      <th>2018-01-08</th>\n",
       "      <td>12.7237</td>\n",
       "      <td>12.7333</td>\n",
       "      <td>12.6274</td>\n",
       "      <td>12.6659</td>\n",
       "      <td>33828330</td>\n",
       "    </tr>\n",
       "  </tbody>\n",
       "</table>\n",
       "</div>"
      ],
      "text/plain": [
       "               open     high      low    close    volume\n",
       "date                                                    \n",
       "2018-01-02  12.0591  12.1939  12.0398  12.1939  20773320\n",
       "2018-01-03  12.2132  12.3288  12.2036  12.2903  29765638\n",
       "2018-01-04  12.3095  12.5599  12.2999  12.5022  37478200\n",
       "2018-01-05  12.5792  12.7333  12.5599  12.7141  46121873\n",
       "2018-01-08  12.7237  12.7333  12.6274  12.6659  33828330"
      ]
     },
     "execution_count": 28,
     "metadata": {},
     "output_type": "execute_result"
    }
   ],
   "source": [
    "stocks = data.DataReader(name=company,data_source='iex', start=start, end=end)\n",
    "stocks.head()"
   ]
  },
  {
   "cell_type": "code",
   "execution_count": 22,
   "metadata": {
    "scrolled": true
   },
   "outputs": [
    {
     "data": {
      "text/plain": [
       "[Index(['2018-01-02', '2018-01-03', '2018-01-04', '2018-01-05', '2018-01-08',\n",
       "        '2018-01-09', '2018-01-10', '2018-01-11', '2018-01-12', '2018-01-16',\n",
       "        '2018-01-17', '2018-01-18', '2018-01-19', '2018-01-22', '2018-01-23',\n",
       "        '2018-01-24', '2018-01-25', '2018-01-26', '2018-01-29', '2018-01-30',\n",
       "        '2018-01-31', '2018-02-01', '2018-02-02', '2018-02-05', '2018-02-06',\n",
       "        '2018-02-07', '2018-02-08', '2018-02-09', '2018-02-12', '2018-02-13',\n",
       "        '2018-02-14', '2018-02-15', '2018-02-16', '2018-02-20', '2018-02-21',\n",
       "        '2018-02-22', '2018-02-23', '2018-02-26', '2018-02-27', '2018-02-28',\n",
       "        '2018-03-01', '2018-03-02', '2018-03-05', '2018-03-06', '2018-03-07',\n",
       "        '2018-03-08', '2018-03-09', '2018-03-12', '2018-03-13', '2018-03-14',\n",
       "        '2018-03-15', '2018-03-16', '2018-03-19', '2018-03-20', '2018-03-21',\n",
       "        '2018-03-22', '2018-03-23', '2018-03-26', '2018-03-27', '2018-03-28',\n",
       "        '2018-03-29', '2018-04-02', '2018-04-03', '2018-04-04', '2018-04-05',\n",
       "        '2018-04-06', '2018-04-09', '2018-04-10', '2018-04-11', '2018-04-12',\n",
       "        '2018-04-13', '2018-04-16', '2018-04-17', '2018-04-18', '2018-04-19',\n",
       "        '2018-04-20', '2018-04-23', '2018-04-24', '2018-04-25', '2018-04-26',\n",
       "        '2018-04-27', '2018-04-30', '2018-05-01'],\n",
       "       dtype='object', name='date'),\n",
       " Index(['open', 'high', 'low', 'close', 'volume'], dtype='object')]"
      ]
     },
     "execution_count": 22,
     "metadata": {},
     "output_type": "execute_result"
    }
   ],
   "source": [
    "# stocks.values\n",
    "# stocks.columns\n",
    "# stocks.index\n",
    "stocks.axes  #  回傳索引與column屬性"
   ]
  },
  {
   "cell_type": "markdown",
   "metadata": {},
   "source": [
    "## Selecting from a DataFrame with a DateTimeIndex"
   ]
  },
  {
   "cell_type": "code",
   "execution_count": null,
   "metadata": {
    "collapsed": true
   },
   "outputs": [],
   "source": [
    "stocks = data.DataReader(name=company,data_source='iex', start=start, end=end)\n",
    "stocks.head()"
   ]
  },
  {
   "cell_type": "code",
   "execution_count": 29,
   "metadata": {},
   "outputs": [
    {
     "data": {
      "text/plain": [
       "date\n",
       "2018-01-02    12.0591\n",
       "2018-01-03    12.2132\n",
       "2018-01-04    12.3095\n",
       "2018-01-05    12.5792\n",
       "2018-01-08    12.7237\n",
       "Name: open, dtype: float64"
      ]
     },
     "execution_count": 29,
     "metadata": {},
     "output_type": "execute_result"
    }
   ],
   "source": [
    "#  一樣可以利用loc、iloc來做資料提取的動作\n",
    "stocks.loc[:, 'open'].head()"
   ]
  },
  {
   "cell_type": "code",
   "execution_count": 30,
   "metadata": {},
   "outputs": [
    {
     "data": {
      "text/plain": [
       "open            11.25\n",
       "high            11.35\n",
       "low             11.10\n",
       "close           11.26\n",
       "volume    61430446.00\n",
       "Name: 2018-05-01, dtype: float64"
      ]
     },
     "execution_count": 30,
     "metadata": {},
     "output_type": "execute_result"
    }
   ],
   "source": [
    "stocks.loc['2018-05-01', :]"
   ]
  },
  {
   "cell_type": "code",
   "execution_count": 31,
   "metadata": {},
   "outputs": [
    {
     "data": {
      "text/html": [
       "<div>\n",
       "<style scoped>\n",
       "    .dataframe tbody tr th:only-of-type {\n",
       "        vertical-align: middle;\n",
       "    }\n",
       "\n",
       "    .dataframe tbody tr th {\n",
       "        vertical-align: top;\n",
       "    }\n",
       "\n",
       "    .dataframe thead th {\n",
       "        text-align: right;\n",
       "    }\n",
       "</style>\n",
       "<table border=\"1\" class=\"dataframe\">\n",
       "  <thead>\n",
       "    <tr style=\"text-align: right;\">\n",
       "      <th></th>\n",
       "      <th>open</th>\n",
       "      <th>high</th>\n",
       "      <th>low</th>\n",
       "      <th>close</th>\n",
       "      <th>volume</th>\n",
       "    </tr>\n",
       "    <tr>\n",
       "      <th>date</th>\n",
       "      <th></th>\n",
       "      <th></th>\n",
       "      <th></th>\n",
       "      <th></th>\n",
       "      <th></th>\n",
       "    </tr>\n",
       "  </thead>\n",
       "  <tbody>\n",
       "    <tr>\n",
       "      <th>2018-01-03</th>\n",
       "      <td>12.2132</td>\n",
       "      <td>12.3288</td>\n",
       "      <td>12.2036</td>\n",
       "      <td>12.2903</td>\n",
       "      <td>29765638</td>\n",
       "    </tr>\n",
       "    <tr>\n",
       "      <th>2018-01-04</th>\n",
       "      <td>12.3095</td>\n",
       "      <td>12.5599</td>\n",
       "      <td>12.2999</td>\n",
       "      <td>12.5022</td>\n",
       "      <td>37478200</td>\n",
       "    </tr>\n",
       "    <tr>\n",
       "      <th>2018-01-05</th>\n",
       "      <td>12.5792</td>\n",
       "      <td>12.7333</td>\n",
       "      <td>12.5599</td>\n",
       "      <td>12.7141</td>\n",
       "      <td>46121873</td>\n",
       "    </tr>\n",
       "    <tr>\n",
       "      <th>2018-01-08</th>\n",
       "      <td>12.7237</td>\n",
       "      <td>12.7333</td>\n",
       "      <td>12.6274</td>\n",
       "      <td>12.6659</td>\n",
       "      <td>33828330</td>\n",
       "    </tr>\n",
       "  </tbody>\n",
       "</table>\n",
       "</div>"
      ],
      "text/plain": [
       "               open     high      low    close    volume\n",
       "date                                                    \n",
       "2018-01-03  12.2132  12.3288  12.2036  12.2903  29765638\n",
       "2018-01-04  12.3095  12.5599  12.2999  12.5022  37478200\n",
       "2018-01-05  12.5792  12.7333  12.5599  12.7141  46121873\n",
       "2018-01-08  12.7237  12.7333  12.6274  12.6659  33828330"
      ]
     },
     "execution_count": 31,
     "metadata": {},
     "output_type": "execute_result"
    }
   ],
   "source": [
    "stocks.iloc[1:5, :]"
   ]
  },
  {
   "cell_type": "code",
   "execution_count": 34,
   "metadata": {},
   "outputs": [
    {
     "data": {
      "text/html": [
       "<div>\n",
       "<style scoped>\n",
       "    .dataframe tbody tr th:only-of-type {\n",
       "        vertical-align: middle;\n",
       "    }\n",
       "\n",
       "    .dataframe tbody tr th {\n",
       "        vertical-align: top;\n",
       "    }\n",
       "\n",
       "    .dataframe thead th {\n",
       "        text-align: right;\n",
       "    }\n",
       "</style>\n",
       "<table border=\"1\" class=\"dataframe\">\n",
       "  <thead>\n",
       "    <tr style=\"text-align: right;\">\n",
       "      <th></th>\n",
       "      <th>open</th>\n",
       "      <th>high</th>\n",
       "      <th>low</th>\n",
       "      <th>close</th>\n",
       "      <th>volume</th>\n",
       "    </tr>\n",
       "    <tr>\n",
       "      <th>date</th>\n",
       "      <th></th>\n",
       "      <th></th>\n",
       "      <th></th>\n",
       "      <th></th>\n",
       "      <th></th>\n",
       "    </tr>\n",
       "  </thead>\n",
       "  <tbody>\n",
       "    <tr>\n",
       "      <th>2018-03-01</th>\n",
       "      <td>10.5090</td>\n",
       "      <td>10.5485</td>\n",
       "      <td>10.0650</td>\n",
       "      <td>10.1538</td>\n",
       "      <td>75841414</td>\n",
       "    </tr>\n",
       "    <tr>\n",
       "      <th>2018-03-02</th>\n",
       "      <td>10.1044</td>\n",
       "      <td>10.2820</td>\n",
       "      <td>10.0058</td>\n",
       "      <td>10.2623</td>\n",
       "      <td>60491864</td>\n",
       "    </tr>\n",
       "    <tr>\n",
       "      <th>2018-03-05</th>\n",
       "      <td>10.1735</td>\n",
       "      <td>10.4893</td>\n",
       "      <td>10.1636</td>\n",
       "      <td>10.4399</td>\n",
       "      <td>44021329</td>\n",
       "    </tr>\n",
       "    <tr>\n",
       "      <th>2018-03-06</th>\n",
       "      <td>10.5090</td>\n",
       "      <td>10.5386</td>\n",
       "      <td>10.3314</td>\n",
       "      <td>10.4893</td>\n",
       "      <td>30978946</td>\n",
       "    </tr>\n",
       "    <tr>\n",
       "      <th>2018-03-07</th>\n",
       "      <td>10.3709</td>\n",
       "      <td>10.4991</td>\n",
       "      <td>10.2919</td>\n",
       "      <td>10.4893</td>\n",
       "      <td>30046598</td>\n",
       "    </tr>\n",
       "    <tr>\n",
       "      <th>2018-03-08</th>\n",
       "      <td>10.5090</td>\n",
       "      <td>10.5386</td>\n",
       "      <td>10.3413</td>\n",
       "      <td>10.4695</td>\n",
       "      <td>26947958</td>\n",
       "    </tr>\n",
       "    <tr>\n",
       "      <th>2018-03-09</th>\n",
       "      <td>10.4893</td>\n",
       "      <td>10.5879</td>\n",
       "      <td>10.4301</td>\n",
       "      <td>10.5879</td>\n",
       "      <td>26684375</td>\n",
       "    </tr>\n",
       "  </tbody>\n",
       "</table>\n",
       "</div>"
      ],
      "text/plain": [
       "               open     high      low    close    volume\n",
       "date                                                    \n",
       "2018-03-01  10.5090  10.5485  10.0650  10.1538  75841414\n",
       "2018-03-02  10.1044  10.2820  10.0058  10.2623  60491864\n",
       "2018-03-05  10.1735  10.4893  10.1636  10.4399  44021329\n",
       "2018-03-06  10.5090  10.5386  10.3314  10.4893  30978946\n",
       "2018-03-07  10.3709  10.4991  10.2919  10.4893  30046598\n",
       "2018-03-08  10.5090  10.5386  10.3413  10.4695  26947958\n",
       "2018-03-09  10.4893  10.5879  10.4301  10.5879  26684375"
      ]
     },
     "execution_count": 34,
     "metadata": {},
     "output_type": "execute_result"
    }
   ],
   "source": [
    "#  利用索引區間查詢\n",
    "stocks.loc['2018-03-01':'2018-03-10', :]"
   ]
  },
  {
   "cell_type": "code",
   "execution_count": 35,
   "metadata": {},
   "outputs": [
    {
     "data": {
      "text/plain": [
       "DatetimeIndex(['1982-09-20', '1983-09-20', '1984-09-20', '1985-09-20',\n",
       "               '1986-09-20', '1987-09-20', '1988-09-20', '1989-09-20',\n",
       "               '1990-09-20', '1991-09-20', '1992-09-20', '1993-09-20',\n",
       "               '1994-09-20', '1995-09-20', '1996-09-20', '1997-09-20',\n",
       "               '1998-09-20', '1999-09-20', '2000-09-20', '2001-09-20',\n",
       "               '2002-09-20', '2003-09-20', '2004-09-20', '2005-09-20',\n",
       "               '2006-09-20', '2007-09-20', '2008-09-20', '2009-09-20',\n",
       "               '2010-09-20', '2011-09-20', '2012-09-20', '2013-09-20',\n",
       "               '2014-09-20', '2015-09-20', '2016-09-20', '2017-09-20',\n",
       "               '2018-09-20'],\n",
       "              dtype='datetime64[ns]', freq='<DateOffset: kwds={'years': 1}>')"
      ]
     },
     "execution_count": 35,
     "metadata": {},
     "output_type": "execute_result"
    }
   ],
   "source": [
    "#  設置一個時間區間\n",
    "mybirths = pd.date_range(start='1982-09-20', end='2018-09-20', freq=pd.DateOffset(years=1))\n",
    "mybirths"
   ]
  },
  {
   "cell_type": "code",
   "execution_count": 37,
   "metadata": {},
   "outputs": [
    {
     "data": {
      "text/plain": [
       "array([False, False, False, False, False, False, False, False, False,\n",
       "       False, False, False, False, False, False, False, False, False,\n",
       "       False, False, False, False, False, False, False, False, False,\n",
       "       False, False, False, False, False, False, False, False, False,\n",
       "       False, False, False, False, False, False, False, False, False,\n",
       "       False, False, False, False, False, False, False, False, False,\n",
       "       False, False, False, False, False, False, False, False, False,\n",
       "       False, False, False, False, False, False, False, False, False,\n",
       "       False, False, False, False, False, False, False, False, False,\n",
       "       False, False], dtype=bool)"
      ]
     },
     "execution_count": 37,
     "metadata": {},
     "output_type": "execute_result"
    }
   ],
   "source": [
    "mask = stocks.index.isin(mybirths)\n",
    "mask"
   ]
  },
  {
   "cell_type": "code",
   "execution_count": 38,
   "metadata": {},
   "outputs": [
    {
     "data": {
      "text/html": [
       "<div>\n",
       "<style scoped>\n",
       "    .dataframe tbody tr th:only-of-type {\n",
       "        vertical-align: middle;\n",
       "    }\n",
       "\n",
       "    .dataframe tbody tr th {\n",
       "        vertical-align: top;\n",
       "    }\n",
       "\n",
       "    .dataframe thead th {\n",
       "        text-align: right;\n",
       "    }\n",
       "</style>\n",
       "<table border=\"1\" class=\"dataframe\">\n",
       "  <thead>\n",
       "    <tr style=\"text-align: right;\">\n",
       "      <th></th>\n",
       "      <th>open</th>\n",
       "      <th>high</th>\n",
       "      <th>low</th>\n",
       "      <th>close</th>\n",
       "      <th>volume</th>\n",
       "    </tr>\n",
       "    <tr>\n",
       "      <th>date</th>\n",
       "      <th></th>\n",
       "      <th></th>\n",
       "      <th></th>\n",
       "      <th></th>\n",
       "      <th></th>\n",
       "    </tr>\n",
       "  </thead>\n",
       "  <tbody>\n",
       "  </tbody>\n",
       "</table>\n",
       "</div>"
      ],
      "text/plain": [
       "Empty DataFrame\n",
       "Columns: [open, high, low, close, volume]\n",
       "Index: []"
      ]
     },
     "execution_count": 38,
     "metadata": {},
     "output_type": "execute_result"
    }
   ],
   "source": [
    "#  因為剛好區間沒有資料，造成回傳空的\n",
    "stocks.loc[mask]"
   ]
  },
  {
   "cell_type": "markdown",
   "metadata": {
    "collapsed": true
   },
   "source": [
    "## Timestamp Object Attributes"
   ]
  },
  {
   "cell_type": "code",
   "execution_count": null,
   "metadata": {
    "collapsed": true
   },
   "outputs": [],
   "source": [
    "stocks = data.DataReader(name=company,data_source='iex', start=start, end=end)\n",
    "stocks.head()"
   ]
  },
  {
   "cell_type": "code",
   "execution_count": 60,
   "metadata": {},
   "outputs": [
    {
     "data": {
      "text/plain": [
       "Index(['2018-01-02', '2018-01-03', '2018-01-04', '2018-01-05', '2018-01-08',\n",
       "       '2018-01-09', '2018-01-10', '2018-01-11', '2018-01-12', '2018-01-16',\n",
       "       '2018-01-17', '2018-01-18', '2018-01-19', '2018-01-22', '2018-01-23',\n",
       "       '2018-01-24', '2018-01-25', '2018-01-26', '2018-01-29', '2018-01-30',\n",
       "       '2018-01-31', '2018-02-01', '2018-02-02', '2018-02-05', '2018-02-06',\n",
       "       '2018-02-07', '2018-02-08', '2018-02-09', '2018-02-12', '2018-02-13',\n",
       "       '2018-02-14', '2018-02-15', '2018-02-16', '2018-02-20', '2018-02-21',\n",
       "       '2018-02-22', '2018-02-23', '2018-02-26', '2018-02-27', '2018-02-28',\n",
       "       '2018-03-01', '2018-03-02', '2018-03-05', '2018-03-06', '2018-03-07',\n",
       "       '2018-03-08', '2018-03-09', '2018-03-12', '2018-03-13', '2018-03-14',\n",
       "       '2018-03-15', '2018-03-16', '2018-03-19', '2018-03-20', '2018-03-21',\n",
       "       '2018-03-22', '2018-03-23', '2018-03-26', '2018-03-27', '2018-03-28',\n",
       "       '2018-03-29', '2018-04-02', '2018-04-03', '2018-04-04', '2018-04-05',\n",
       "       '2018-04-06', '2018-04-09', '2018-04-10', '2018-04-11', '2018-04-12',\n",
       "       '2018-04-13', '2018-04-16', '2018-04-17', '2018-04-18', '2018-04-19',\n",
       "       '2018-04-20', '2018-04-23', '2018-04-24', '2018-04-25', '2018-04-26',\n",
       "       '2018-04-27', '2018-04-30', '2018-05-01'],\n",
       "      dtype='object', name='date')"
      ]
     },
     "execution_count": 60,
     "metadata": {},
     "output_type": "execute_result"
    }
   ],
   "source": [
    "#  從資料內取得一個索引\n",
    "stocks.index"
   ]
  },
  {
   "cell_type": "code",
   "execution_count": 30,
   "metadata": {},
   "outputs": [
    {
     "data": {
      "text/plain": [
       "str"
      ]
     },
     "execution_count": 30,
     "metadata": {},
     "output_type": "execute_result"
    }
   ],
   "source": [
    "someday = stocks.index[0]\n",
    "#  回傳似乎不再是timestamp，而是str，故無法操作timestamp的相關函式\n",
    "type(someday)"
   ]
  },
  {
   "cell_type": "code",
   "execution_count": 31,
   "metadata": {
    "collapsed": true
   },
   "outputs": [],
   "source": [
    "#  自己轉型也可以\n",
    "someday = pd.Timestamp(someday)"
   ]
  },
  {
   "cell_type": "code",
   "execution_count": 32,
   "metadata": {},
   "outputs": [
    {
     "data": {
      "text/plain": [
       "False"
      ]
     },
     "execution_count": 32,
     "metadata": {},
     "output_type": "execute_result"
    }
   ],
   "source": [
    "someday.is_month_start"
   ]
  },
  {
   "cell_type": "code",
   "execution_count": 33,
   "metadata": {
    "collapsed": true
   },
   "outputs": [],
   "source": [
    "#  利用insert來插入新的欄\n",
    "stocks.insert(0, 'Day of week', 1)"
   ]
  },
  {
   "cell_type": "code",
   "execution_count": 57,
   "metadata": {},
   "outputs": [
    {
     "data": {
      "text/html": [
       "<div>\n",
       "<style scoped>\n",
       "    .dataframe tbody tr th:only-of-type {\n",
       "        vertical-align: middle;\n",
       "    }\n",
       "\n",
       "    .dataframe tbody tr th {\n",
       "        vertical-align: top;\n",
       "    }\n",
       "\n",
       "    .dataframe thead th {\n",
       "        text-align: right;\n",
       "    }\n",
       "</style>\n",
       "<table border=\"1\" class=\"dataframe\">\n",
       "  <thead>\n",
       "    <tr style=\"text-align: right;\">\n",
       "      <th></th>\n",
       "      <th>Day of week</th>\n",
       "      <th>open</th>\n",
       "      <th>high</th>\n",
       "      <th>low</th>\n",
       "      <th>close</th>\n",
       "      <th>volume</th>\n",
       "    </tr>\n",
       "    <tr>\n",
       "      <th>date</th>\n",
       "      <th></th>\n",
       "      <th></th>\n",
       "      <th></th>\n",
       "      <th></th>\n",
       "      <th></th>\n",
       "      <th></th>\n",
       "    </tr>\n",
       "  </thead>\n",
       "  <tbody>\n",
       "    <tr>\n",
       "      <th>2018-01-02</th>\n",
       "      <td>1</td>\n",
       "      <td>12.0591</td>\n",
       "      <td>12.1939</td>\n",
       "      <td>12.0398</td>\n",
       "      <td>12.1939</td>\n",
       "      <td>20773320</td>\n",
       "    </tr>\n",
       "    <tr>\n",
       "      <th>2018-01-03</th>\n",
       "      <td>1</td>\n",
       "      <td>12.2132</td>\n",
       "      <td>12.3288</td>\n",
       "      <td>12.2036</td>\n",
       "      <td>12.2903</td>\n",
       "      <td>29765638</td>\n",
       "    </tr>\n",
       "    <tr>\n",
       "      <th>2018-01-04</th>\n",
       "      <td>1</td>\n",
       "      <td>12.3095</td>\n",
       "      <td>12.5599</td>\n",
       "      <td>12.2999</td>\n",
       "      <td>12.5022</td>\n",
       "      <td>37478200</td>\n",
       "    </tr>\n",
       "    <tr>\n",
       "      <th>2018-01-05</th>\n",
       "      <td>1</td>\n",
       "      <td>12.5792</td>\n",
       "      <td>12.7333</td>\n",
       "      <td>12.5599</td>\n",
       "      <td>12.7141</td>\n",
       "      <td>46121873</td>\n",
       "    </tr>\n",
       "    <tr>\n",
       "      <th>2018-01-08</th>\n",
       "      <td>1</td>\n",
       "      <td>12.7237</td>\n",
       "      <td>12.7333</td>\n",
       "      <td>12.6274</td>\n",
       "      <td>12.6659</td>\n",
       "      <td>33828330</td>\n",
       "    </tr>\n",
       "  </tbody>\n",
       "</table>\n",
       "</div>"
      ],
      "text/plain": [
       "            Day of week     open     high      low    close    volume\n",
       "date                                                                 \n",
       "2018-01-02            1  12.0591  12.1939  12.0398  12.1939  20773320\n",
       "2018-01-03            1  12.2132  12.3288  12.2036  12.2903  29765638\n",
       "2018-01-04            1  12.3095  12.5599  12.2999  12.5022  37478200\n",
       "2018-01-05            1  12.5792  12.7333  12.5599  12.7141  46121873\n",
       "2018-01-08            1  12.7237  12.7333  12.6274  12.6659  33828330"
      ]
     },
     "execution_count": 57,
     "metadata": {},
     "output_type": "execute_result"
    }
   ],
   "source": [
    "stocks.head()"
   ]
  },
  {
   "cell_type": "markdown",
   "metadata": {
    "collapsed": true
   },
   "source": [
    "## The .truncate() Method"
   ]
  },
  {
   "cell_type": "code",
   "execution_count": 6,
   "metadata": {},
   "outputs": [
    {
     "data": {
      "text/html": [
       "<div>\n",
       "<style scoped>\n",
       "    .dataframe tbody tr th:only-of-type {\n",
       "        vertical-align: middle;\n",
       "    }\n",
       "\n",
       "    .dataframe tbody tr th {\n",
       "        vertical-align: top;\n",
       "    }\n",
       "\n",
       "    .dataframe thead th {\n",
       "        text-align: right;\n",
       "    }\n",
       "</style>\n",
       "<table border=\"1\" class=\"dataframe\">\n",
       "  <thead>\n",
       "    <tr style=\"text-align: right;\">\n",
       "      <th></th>\n",
       "      <th>open</th>\n",
       "      <th>high</th>\n",
       "      <th>low</th>\n",
       "      <th>close</th>\n",
       "      <th>volume</th>\n",
       "    </tr>\n",
       "    <tr>\n",
       "      <th>date</th>\n",
       "      <th></th>\n",
       "      <th></th>\n",
       "      <th></th>\n",
       "      <th></th>\n",
       "      <th></th>\n",
       "    </tr>\n",
       "  </thead>\n",
       "  <tbody>\n",
       "    <tr>\n",
       "      <th>2018-04-02</th>\n",
       "      <td>10.9136</td>\n",
       "      <td>10.9432</td>\n",
       "      <td>10.5583</td>\n",
       "      <td>10.7162</td>\n",
       "      <td>43598094</td>\n",
       "    </tr>\n",
       "    <tr>\n",
       "      <th>2018-04-03</th>\n",
       "      <td>10.8642</td>\n",
       "      <td>11.0320</td>\n",
       "      <td>10.7557</td>\n",
       "      <td>11.0024</td>\n",
       "      <td>42523917</td>\n",
       "    </tr>\n",
       "    <tr>\n",
       "      <th>2018-04-04</th>\n",
       "      <td>10.7261</td>\n",
       "      <td>11.2096</td>\n",
       "      <td>10.6570</td>\n",
       "      <td>11.1800</td>\n",
       "      <td>44834639</td>\n",
       "    </tr>\n",
       "    <tr>\n",
       "      <th>2018-04-05</th>\n",
       "      <td>11.1899</td>\n",
       "      <td>11.2293</td>\n",
       "      <td>11.0813</td>\n",
       "      <td>11.1997</td>\n",
       "      <td>28755606</td>\n",
       "    </tr>\n",
       "    <tr>\n",
       "      <th>2018-04-06</th>\n",
       "      <td>11.1307</td>\n",
       "      <td>11.1997</td>\n",
       "      <td>10.9234</td>\n",
       "      <td>11.0320</td>\n",
       "      <td>31920686</td>\n",
       "    </tr>\n",
       "    <tr>\n",
       "      <th>2018-04-09</th>\n",
       "      <td>11.1011</td>\n",
       "      <td>11.2293</td>\n",
       "      <td>11.0517</td>\n",
       "      <td>11.1011</td>\n",
       "      <td>36462658</td>\n",
       "    </tr>\n",
       "    <tr>\n",
       "      <th>2018-04-10</th>\n",
       "      <td>11.2885</td>\n",
       "      <td>11.3971</td>\n",
       "      <td>11.2589</td>\n",
       "      <td>11.2984</td>\n",
       "      <td>44005015</td>\n",
       "    </tr>\n",
       "  </tbody>\n",
       "</table>\n",
       "</div>"
      ],
      "text/plain": [
       "               open     high      low    close    volume\n",
       "date                                                    \n",
       "2018-04-02  10.9136  10.9432  10.5583  10.7162  43598094\n",
       "2018-04-03  10.8642  11.0320  10.7557  11.0024  42523917\n",
       "2018-04-04  10.7261  11.2096  10.6570  11.1800  44834639\n",
       "2018-04-05  11.1899  11.2293  11.0813  11.1997  28755606\n",
       "2018-04-06  11.1307  11.1997  10.9234  11.0320  31920686\n",
       "2018-04-09  11.1011  11.2293  11.0517  11.1011  36462658\n",
       "2018-04-10  11.2885  11.3971  11.2589  11.2984  44005015"
      ]
     },
     "execution_count": 6,
     "metadata": {},
     "output_type": "execute_result"
    }
   ],
   "source": [
    "#  利用truncate取得區間內的資料\n",
    "stocks.truncate(before='2018-04-01', after='2018-04-10')"
   ]
  },
  {
   "cell_type": "markdown",
   "metadata": {},
   "source": [
    "## pd.DateOffset Objects"
   ]
  },
  {
   "cell_type": "code",
   "execution_count": 4,
   "metadata": {
    "scrolled": true
   },
   "outputs": [
    {
     "name": "stdout",
     "output_type": "stream",
     "text": [
      "1y\n"
     ]
    },
    {
     "data": {
      "text/html": [
       "<div>\n",
       "<style scoped>\n",
       "    .dataframe tbody tr th:only-of-type {\n",
       "        vertical-align: middle;\n",
       "    }\n",
       "\n",
       "    .dataframe tbody tr th {\n",
       "        vertical-align: top;\n",
       "    }\n",
       "\n",
       "    .dataframe thead th {\n",
       "        text-align: right;\n",
       "    }\n",
       "</style>\n",
       "<table border=\"1\" class=\"dataframe\">\n",
       "  <thead>\n",
       "    <tr style=\"text-align: right;\">\n",
       "      <th></th>\n",
       "      <th>open</th>\n",
       "      <th>high</th>\n",
       "      <th>low</th>\n",
       "      <th>close</th>\n",
       "      <th>volume</th>\n",
       "    </tr>\n",
       "    <tr>\n",
       "      <th>date</th>\n",
       "      <th></th>\n",
       "      <th></th>\n",
       "      <th></th>\n",
       "      <th></th>\n",
       "      <th></th>\n",
       "    </tr>\n",
       "  </thead>\n",
       "  <tbody>\n",
       "    <tr>\n",
       "      <th>2018-01-02</th>\n",
       "      <td>1048.34</td>\n",
       "      <td>1066.94</td>\n",
       "      <td>1045.23</td>\n",
       "      <td>1065.00</td>\n",
       "      <td>1237564</td>\n",
       "    </tr>\n",
       "    <tr>\n",
       "      <th>2018-01-03</th>\n",
       "      <td>1064.31</td>\n",
       "      <td>1086.29</td>\n",
       "      <td>1063.21</td>\n",
       "      <td>1082.48</td>\n",
       "      <td>1430170</td>\n",
       "    </tr>\n",
       "    <tr>\n",
       "      <th>2018-01-04</th>\n",
       "      <td>1088.00</td>\n",
       "      <td>1093.57</td>\n",
       "      <td>1084.00</td>\n",
       "      <td>1086.40</td>\n",
       "      <td>1004605</td>\n",
       "    </tr>\n",
       "    <tr>\n",
       "      <th>2018-01-05</th>\n",
       "      <td>1094.00</td>\n",
       "      <td>1104.25</td>\n",
       "      <td>1092.00</td>\n",
       "      <td>1102.23</td>\n",
       "      <td>1279123</td>\n",
       "    </tr>\n",
       "    <tr>\n",
       "      <th>2018-01-08</th>\n",
       "      <td>1102.23</td>\n",
       "      <td>1111.27</td>\n",
       "      <td>1101.62</td>\n",
       "      <td>1106.94</td>\n",
       "      <td>1047603</td>\n",
       "    </tr>\n",
       "  </tbody>\n",
       "</table>\n",
       "</div>"
      ],
      "text/plain": [
       "               open     high      low    close   volume\n",
       "date                                                   \n",
       "2018-01-02  1048.34  1066.94  1045.23  1065.00  1237564\n",
       "2018-01-03  1064.31  1086.29  1063.21  1082.48  1430170\n",
       "2018-01-04  1088.00  1093.57  1084.00  1086.40  1004605\n",
       "2018-01-05  1094.00  1104.25  1092.00  1102.23  1279123\n",
       "2018-01-08  1102.23  1111.27  1101.62  1106.94  1047603"
      ]
     },
     "execution_count": 4,
     "metadata": {},
     "output_type": "execute_result"
    }
   ],
   "source": [
    "stocks = data.DataReader('GOOG', data_source='iex', start='2018-01-01', end=dt.datetime.now())\n",
    "stocks.head()"
   ]
  },
  {
   "cell_type": "code",
   "execution_count": 5,
   "metadata": {},
   "outputs": [
    {
     "data": {
      "text/plain": [
       "Index(['2018-01-02', '2018-01-03', '2018-01-04', '2018-01-05', '2018-01-08',\n",
       "       '2018-01-09', '2018-01-10', '2018-01-11', '2018-01-12', '2018-01-16',\n",
       "       '2018-01-17', '2018-01-18', '2018-01-19', '2018-01-22', '2018-01-23',\n",
       "       '2018-01-24', '2018-01-25', '2018-01-26', '2018-01-29', '2018-01-30',\n",
       "       '2018-01-31', '2018-02-01', '2018-02-02', '2018-02-05', '2018-02-06',\n",
       "       '2018-02-07', '2018-02-08', '2018-02-09', '2018-02-12', '2018-02-13',\n",
       "       '2018-02-14', '2018-02-15', '2018-02-16', '2018-02-20', '2018-02-21',\n",
       "       '2018-02-22', '2018-02-23', '2018-02-26', '2018-02-27', '2018-02-28',\n",
       "       '2018-03-01', '2018-03-02', '2018-03-05', '2018-03-06', '2018-03-07',\n",
       "       '2018-03-08', '2018-03-09', '2018-03-12', '2018-03-13', '2018-03-14',\n",
       "       '2018-03-15', '2018-03-16', '2018-03-19', '2018-03-20', '2018-03-21',\n",
       "       '2018-03-22', '2018-03-23', '2018-03-26', '2018-03-27', '2018-03-28',\n",
       "       '2018-03-29', '2018-04-02', '2018-04-03', '2018-04-04', '2018-04-05',\n",
       "       '2018-04-06', '2018-04-09', '2018-04-10', '2018-04-11', '2018-04-12',\n",
       "       '2018-04-13', '2018-04-16', '2018-04-17', '2018-04-18', '2018-04-19',\n",
       "       '2018-04-20', '2018-04-23', '2018-04-24', '2018-04-25', '2018-04-26',\n",
       "       '2018-04-27', '2018-04-30', '2018-05-01', '2018-05-02', '2018-05-03',\n",
       "       '2018-05-04', '2018-05-07', '2018-05-08', '2018-05-09', '2018-05-10',\n",
       "       '2018-05-11'],\n",
       "      dtype='object', name='date')"
      ]
     },
     "execution_count": 5,
     "metadata": {},
     "output_type": "execute_result"
    }
   ],
   "source": [
    "stocks.index"
   ]
  },
  {
   "cell_type": "code",
   "execution_count": 7,
   "metadata": {},
   "outputs": [
    {
     "data": {
      "text/plain": [
       "DatetimeIndex(['2018-01-07', '2018-01-08', '2018-01-09', '2018-01-10',\n",
       "               '2018-01-13', '2018-01-14', '2018-01-15', '2018-01-16',\n",
       "               '2018-01-17', '2018-01-21', '2018-01-22', '2018-01-23',\n",
       "               '2018-01-24', '2018-01-27', '2018-01-28', '2018-01-29',\n",
       "               '2018-01-30', '2018-01-31', '2018-02-03', '2018-02-04',\n",
       "               '2018-02-05', '2018-02-06', '2018-02-07', '2018-02-10',\n",
       "               '2018-02-11', '2018-02-12', '2018-02-13', '2018-02-14',\n",
       "               '2018-02-17', '2018-02-18', '2018-02-19', '2018-02-20',\n",
       "               '2018-02-21', '2018-02-25', '2018-02-26', '2018-02-27',\n",
       "               '2018-02-28', '2018-03-03', '2018-03-04', '2018-03-05',\n",
       "               '2018-03-06', '2018-03-07', '2018-03-10', '2018-03-11',\n",
       "               '2018-03-12', '2018-03-13', '2018-03-14', '2018-03-17',\n",
       "               '2018-03-18', '2018-03-19', '2018-03-20', '2018-03-21',\n",
       "               '2018-03-24', '2018-03-25', '2018-03-26', '2018-03-27',\n",
       "               '2018-03-28', '2018-03-31', '2018-04-01', '2018-04-02',\n",
       "               '2018-04-03', '2018-04-07', '2018-04-08', '2018-04-09',\n",
       "               '2018-04-10', '2018-04-11', '2018-04-14', '2018-04-15',\n",
       "               '2018-04-16', '2018-04-17', '2018-04-18', '2018-04-21',\n",
       "               '2018-04-22', '2018-04-23', '2018-04-24', '2018-04-25',\n",
       "               '2018-04-28', '2018-04-29', '2018-04-30', '2018-05-01',\n",
       "               '2018-05-02', '2018-05-05', '2018-05-06', '2018-05-07',\n",
       "               '2018-05-08', '2018-05-09', '2018-05-12', '2018-05-13',\n",
       "               '2018-05-14', '2018-05-15', '2018-05-16'],\n",
       "              dtype='datetime64[ns]', name='date', freq=None)"
      ]
     },
     "execution_count": 7,
     "metadata": {},
     "output_type": "execute_result"
    }
   ],
   "source": [
    "#  因為index回傳已經變為str，故要先以to_datetime做轉型再做後續處理\n",
    "#  透過dataoffset可以發現，我們把日期通通平移了五天\n",
    "#  參數也可以是weeks,months,years,hours\n",
    "pd.to_datetime(stocks.index) + pd.DateOffset(days = 5)"
   ]
  },
  {
   "cell_type": "code",
   "execution_count": 9,
   "metadata": {},
   "outputs": [
    {
     "data": {
      "text/plain": [
       "DatetimeIndex(['2017-12-19', '2017-12-20', '2017-12-21', '2017-12-22',\n",
       "               '2017-12-25', '2017-12-26', '2017-12-27', '2017-12-28',\n",
       "               '2017-12-29', '2018-01-02', '2018-01-03', '2018-01-04',\n",
       "               '2018-01-05', '2018-01-08', '2018-01-09', '2018-01-10',\n",
       "               '2018-01-11', '2018-01-12', '2018-01-15', '2018-01-16',\n",
       "               '2018-01-17', '2018-01-18', '2018-01-19', '2018-01-22',\n",
       "               '2018-01-23', '2018-01-24', '2018-01-25', '2018-01-26',\n",
       "               '2018-01-29', '2018-01-30', '2018-01-31', '2018-02-01',\n",
       "               '2018-02-02', '2018-02-06', '2018-02-07', '2018-02-08',\n",
       "               '2018-02-09', '2018-02-12', '2018-02-13', '2018-02-14',\n",
       "               '2018-02-15', '2018-02-16', '2018-02-19', '2018-02-20',\n",
       "               '2018-02-21', '2018-02-22', '2018-02-23', '2018-02-26',\n",
       "               '2018-02-27', '2018-02-28', '2018-03-01', '2018-03-02',\n",
       "               '2018-03-05', '2018-03-06', '2018-03-07', '2018-03-08',\n",
       "               '2018-03-09', '2018-03-12', '2018-03-13', '2018-03-14',\n",
       "               '2018-03-15', '2018-03-19', '2018-03-20', '2018-03-21',\n",
       "               '2018-03-22', '2018-03-23', '2018-03-26', '2018-03-27',\n",
       "               '2018-03-28', '2018-03-29', '2018-03-30', '2018-04-02',\n",
       "               '2018-04-03', '2018-04-04', '2018-04-05', '2018-04-06',\n",
       "               '2018-04-09', '2018-04-10', '2018-04-11', '2018-04-12',\n",
       "               '2018-04-13', '2018-04-16', '2018-04-17', '2018-04-18',\n",
       "               '2018-04-19', '2018-04-20', '2018-04-23', '2018-04-24',\n",
       "               '2018-04-25', '2018-04-26', '2018-04-27'],\n",
       "              dtype='datetime64[ns]', name='date', freq=None)"
      ]
     },
     "execution_count": 9,
     "metadata": {},
     "output_type": "execute_result"
    }
   ],
   "source": [
    "#  不僅是加，也可以減\n",
    "pd.to_datetime(stocks.index) - pd.DateOffset(weeks = 2)"
   ]
  },
  {
   "cell_type": "code",
   "execution_count": 10,
   "metadata": {},
   "outputs": [
    {
     "data": {
      "text/plain": [
       "DatetimeIndex(['2019-01-07', '2019-01-08', '2019-01-09', '2019-01-10',\n",
       "               '2019-01-13', '2019-01-14', '2019-01-15', '2019-01-16',\n",
       "               '2019-01-17', '2019-01-21', '2019-01-22', '2019-01-23',\n",
       "               '2019-01-24', '2019-01-27', '2019-01-28', '2019-01-29',\n",
       "               '2019-01-30', '2019-01-31', '2019-02-03', '2019-02-04',\n",
       "               '2019-02-05', '2019-02-06', '2019-02-07', '2019-02-10',\n",
       "               '2019-02-11', '2019-02-12', '2019-02-13', '2019-02-14',\n",
       "               '2019-02-17', '2019-02-18', '2019-02-19', '2019-02-20',\n",
       "               '2019-02-21', '2019-02-25', '2019-02-26', '2019-02-27',\n",
       "               '2019-02-28', '2019-03-03', '2019-03-04', '2019-03-05',\n",
       "               '2019-03-06', '2019-03-07', '2019-03-10', '2019-03-11',\n",
       "               '2019-03-12', '2019-03-13', '2019-03-14', '2019-03-17',\n",
       "               '2019-03-18', '2019-03-19', '2019-03-20', '2019-03-21',\n",
       "               '2019-03-24', '2019-03-25', '2019-03-26', '2019-03-27',\n",
       "               '2019-03-28', '2019-03-31', '2019-04-01', '2019-04-02',\n",
       "               '2019-04-03', '2019-04-07', '2019-04-08', '2019-04-09',\n",
       "               '2019-04-10', '2019-04-11', '2019-04-14', '2019-04-15',\n",
       "               '2019-04-16', '2019-04-17', '2019-04-18', '2019-04-21',\n",
       "               '2019-04-22', '2019-04-23', '2019-04-24', '2019-04-25',\n",
       "               '2019-04-28', '2019-04-29', '2019-04-30', '2019-05-01',\n",
       "               '2019-05-02', '2019-05-05', '2019-05-06', '2019-05-07',\n",
       "               '2019-05-08', '2019-05-09', '2019-05-12', '2019-05-13',\n",
       "               '2019-05-14', '2019-05-15', '2019-05-16'],\n",
       "              dtype='datetime64[ns]', name='date', freq=None)"
      ]
     },
     "execution_count": 10,
     "metadata": {},
     "output_type": "execute_result"
    }
   ],
   "source": [
    "#  參數也可以是複合的\n",
    "pd.to_datetime(stocks.index) + pd.DateOffset(days = 5, years=1)"
   ]
  },
  {
   "cell_type": "markdown",
   "metadata": {
    "collapsed": true
   },
   "source": [
    "## More Fun with pd.DateOffset Objects"
   ]
  },
  {
   "cell_type": "code",
   "execution_count": 11,
   "metadata": {
    "collapsed": true
   },
   "outputs": [],
   "source": [
    "import pandas as pd\n",
    "import datetime as dt\n",
    "from pandas_datareader import data"
   ]
  },
  {
   "cell_type": "code",
   "execution_count": null,
   "metadata": {
    "collapsed": true
   },
   "outputs": [],
   "source": [
    "company = 'F'  #  微軟的股票代碼\n",
    "start = '2018-1-1'\n",
    "end = '2018-5-1'\n",
    "#  data_source指資料來源\n",
    "data.DataReader(name=company,data_source='iex', start=start, end=end)"
   ]
  },
  {
   "cell_type": "code",
   "execution_count": 12,
   "metadata": {},
   "outputs": [
    {
     "data": {
      "text/html": [
       "<div>\n",
       "<style scoped>\n",
       "    .dataframe tbody tr th:only-of-type {\n",
       "        vertical-align: middle;\n",
       "    }\n",
       "\n",
       "    .dataframe tbody tr th {\n",
       "        vertical-align: top;\n",
       "    }\n",
       "\n",
       "    .dataframe thead th {\n",
       "        text-align: right;\n",
       "    }\n",
       "</style>\n",
       "<table border=\"1\" class=\"dataframe\">\n",
       "  <thead>\n",
       "    <tr style=\"text-align: right;\">\n",
       "      <th></th>\n",
       "      <th>open</th>\n",
       "      <th>high</th>\n",
       "      <th>low</th>\n",
       "      <th>close</th>\n",
       "      <th>volume</th>\n",
       "    </tr>\n",
       "    <tr>\n",
       "      <th>date</th>\n",
       "      <th></th>\n",
       "      <th></th>\n",
       "      <th></th>\n",
       "      <th></th>\n",
       "      <th></th>\n",
       "    </tr>\n",
       "  </thead>\n",
       "  <tbody>\n",
       "    <tr>\n",
       "      <th>2018-01-02</th>\n",
       "      <td>1048.34</td>\n",
       "      <td>1066.94</td>\n",
       "      <td>1045.23</td>\n",
       "      <td>1065.00</td>\n",
       "      <td>1237564</td>\n",
       "    </tr>\n",
       "    <tr>\n",
       "      <th>2018-01-03</th>\n",
       "      <td>1064.31</td>\n",
       "      <td>1086.29</td>\n",
       "      <td>1063.21</td>\n",
       "      <td>1082.48</td>\n",
       "      <td>1430170</td>\n",
       "    </tr>\n",
       "    <tr>\n",
       "      <th>2018-01-04</th>\n",
       "      <td>1088.00</td>\n",
       "      <td>1093.57</td>\n",
       "      <td>1084.00</td>\n",
       "      <td>1086.40</td>\n",
       "      <td>1004605</td>\n",
       "    </tr>\n",
       "    <tr>\n",
       "      <th>2018-01-05</th>\n",
       "      <td>1094.00</td>\n",
       "      <td>1104.25</td>\n",
       "      <td>1092.00</td>\n",
       "      <td>1102.23</td>\n",
       "      <td>1279123</td>\n",
       "    </tr>\n",
       "    <tr>\n",
       "      <th>2018-01-08</th>\n",
       "      <td>1102.23</td>\n",
       "      <td>1111.27</td>\n",
       "      <td>1101.62</td>\n",
       "      <td>1106.94</td>\n",
       "      <td>1047603</td>\n",
       "    </tr>\n",
       "  </tbody>\n",
       "</table>\n",
       "</div>"
      ],
      "text/plain": [
       "               open     high      low    close   volume\n",
       "date                                                   \n",
       "2018-01-02  1048.34  1066.94  1045.23  1065.00  1237564\n",
       "2018-01-03  1064.31  1086.29  1063.21  1082.48  1430170\n",
       "2018-01-04  1088.00  1093.57  1084.00  1086.40  1004605\n",
       "2018-01-05  1094.00  1104.25  1092.00  1102.23  1279123\n",
       "2018-01-08  1102.23  1111.27  1101.62  1106.94  1047603"
      ]
     },
     "execution_count": 12,
     "metadata": {},
     "output_type": "execute_result"
    }
   ],
   "source": [
    "stocks.head()"
   ]
  },
  {
   "cell_type": "code",
   "execution_count": 13,
   "metadata": {},
   "outputs": [
    {
     "data": {
      "text/plain": [
       "<MonthEnd>"
      ]
     },
     "execution_count": 13,
     "metadata": {},
     "output_type": "execute_result"
    }
   ],
   "source": [
    "#  pandas本身也存在著日期偏移的函式\n",
    "#  舉例來說，下面是一個計算月最後一天的函式\n",
    "pd.tseries.offsets.MonthEnd()"
   ]
  },
  {
   "cell_type": "code",
   "execution_count": 14,
   "metadata": {},
   "outputs": [
    {
     "data": {
      "text/plain": [
       "DatetimeIndex(['2018-01-31', '2018-01-31', '2018-01-31', '2018-01-31',\n",
       "               '2018-01-31', '2018-01-31', '2018-01-31', '2018-01-31',\n",
       "               '2018-01-31', '2018-01-31', '2018-01-31', '2018-01-31',\n",
       "               '2018-01-31', '2018-01-31', '2018-01-31', '2018-01-31',\n",
       "               '2018-01-31', '2018-01-31', '2018-01-31', '2018-01-31',\n",
       "               '2018-02-28', '2018-02-28', '2018-02-28', '2018-02-28',\n",
       "               '2018-02-28', '2018-02-28', '2018-02-28', '2018-02-28',\n",
       "               '2018-02-28', '2018-02-28', '2018-02-28', '2018-02-28',\n",
       "               '2018-02-28', '2018-02-28', '2018-02-28', '2018-02-28',\n",
       "               '2018-02-28', '2018-02-28', '2018-02-28', '2018-03-31',\n",
       "               '2018-03-31', '2018-03-31', '2018-03-31', '2018-03-31',\n",
       "               '2018-03-31', '2018-03-31', '2018-03-31', '2018-03-31',\n",
       "               '2018-03-31', '2018-03-31', '2018-03-31', '2018-03-31',\n",
       "               '2018-03-31', '2018-03-31', '2018-03-31', '2018-03-31',\n",
       "               '2018-03-31', '2018-03-31', '2018-03-31', '2018-03-31',\n",
       "               '2018-03-31', '2018-04-30', '2018-04-30', '2018-04-30',\n",
       "               '2018-04-30', '2018-04-30', '2018-04-30', '2018-04-30',\n",
       "               '2018-04-30', '2018-04-30', '2018-04-30', '2018-04-30',\n",
       "               '2018-04-30', '2018-04-30', '2018-04-30', '2018-04-30',\n",
       "               '2018-04-30', '2018-04-30', '2018-04-30', '2018-04-30',\n",
       "               '2018-04-30', '2018-05-31', '2018-05-31', '2018-05-31',\n",
       "               '2018-05-31', '2018-05-31', '2018-05-31', '2018-05-31',\n",
       "               '2018-05-31', '2018-05-31', '2018-05-31'],\n",
       "              dtype='datetime64[ns]', name='date', freq=None)"
      ]
     },
     "execution_count": 14,
     "metadata": {},
     "output_type": "execute_result"
    }
   ],
   "source": [
    "#  搭配加號使用可以發現我們把日期四捨五入到月底\n",
    "#  但要注意的是，如果剛好是月底最後一天的話，它會自動往下個月去計算\n",
    "#  舉例來說，1/31會計算為2/28\n",
    "pd.to_datetime(stocks.index) + pd.tseries.offsets.MonthEnd()"
   ]
  },
  {
   "cell_type": "code",
   "execution_count": 15,
   "metadata": {},
   "outputs": [
    {
     "data": {
      "text/plain": [
       "DatetimeIndex(['2017-12-31', '2017-12-31', '2017-12-31', '2017-12-31',\n",
       "               '2017-12-31', '2017-12-31', '2017-12-31', '2017-12-31',\n",
       "               '2017-12-31', '2017-12-31', '2017-12-31', '2017-12-31',\n",
       "               '2017-12-31', '2017-12-31', '2017-12-31', '2017-12-31',\n",
       "               '2017-12-31', '2017-12-31', '2017-12-31', '2017-12-31',\n",
       "               '2017-12-31', '2018-01-31', '2018-01-31', '2018-01-31',\n",
       "               '2018-01-31', '2018-01-31', '2018-01-31', '2018-01-31',\n",
       "               '2018-01-31', '2018-01-31', '2018-01-31', '2018-01-31',\n",
       "               '2018-01-31', '2018-01-31', '2018-01-31', '2018-01-31',\n",
       "               '2018-01-31', '2018-01-31', '2018-01-31', '2018-01-31',\n",
       "               '2018-02-28', '2018-02-28', '2018-02-28', '2018-02-28',\n",
       "               '2018-02-28', '2018-02-28', '2018-02-28', '2018-02-28',\n",
       "               '2018-02-28', '2018-02-28', '2018-02-28', '2018-02-28',\n",
       "               '2018-02-28', '2018-02-28', '2018-02-28', '2018-02-28',\n",
       "               '2018-02-28', '2018-02-28', '2018-02-28', '2018-02-28',\n",
       "               '2018-02-28', '2018-03-31', '2018-03-31', '2018-03-31',\n",
       "               '2018-03-31', '2018-03-31', '2018-03-31', '2018-03-31',\n",
       "               '2018-03-31', '2018-03-31', '2018-03-31', '2018-03-31',\n",
       "               '2018-03-31', '2018-03-31', '2018-03-31', '2018-03-31',\n",
       "               '2018-03-31', '2018-03-31', '2018-03-31', '2018-03-31',\n",
       "               '2018-03-31', '2018-03-31', '2018-04-30', '2018-04-30',\n",
       "               '2018-04-30', '2018-04-30', '2018-04-30', '2018-04-30',\n",
       "               '2018-04-30', '2018-04-30', '2018-04-30'],\n",
       "              dtype='datetime64[ns]', name='date', freq=None)"
      ]
     },
     "execution_count": 15,
     "metadata": {},
     "output_type": "execute_result"
    }
   ],
   "source": [
    "#  配合減號使用的話會發現，往上一個月去計算月底\n",
    "pd.to_datetime(stocks.index) - pd.tseries.offsets.MonthEnd()"
   ]
  },
  {
   "cell_type": "code",
   "execution_count": 16,
   "metadata": {},
   "outputs": [
    {
     "data": {
      "text/plain": [
       "DatetimeIndex(['2018-02-01', '2018-02-01', '2018-02-01', '2018-02-01',\n",
       "               '2018-02-01', '2018-02-01', '2018-02-01', '2018-02-01',\n",
       "               '2018-02-01', '2018-02-01', '2018-02-01', '2018-02-01',\n",
       "               '2018-02-01', '2018-02-01', '2018-02-01', '2018-02-01',\n",
       "               '2018-02-01', '2018-02-01', '2018-02-01', '2018-02-01',\n",
       "               '2018-02-01', '2018-03-01', '2018-03-01', '2018-03-01',\n",
       "               '2018-03-01', '2018-03-01', '2018-03-01', '2018-03-01',\n",
       "               '2018-03-01', '2018-03-01', '2018-03-01', '2018-03-01',\n",
       "               '2018-03-01', '2018-03-01', '2018-03-01', '2018-03-01',\n",
       "               '2018-03-01', '2018-03-01', '2018-03-01', '2018-03-01',\n",
       "               '2018-04-01', '2018-04-01', '2018-04-01', '2018-04-01',\n",
       "               '2018-04-01', '2018-04-01', '2018-04-01', '2018-04-01',\n",
       "               '2018-04-01', '2018-04-01', '2018-04-01', '2018-04-01',\n",
       "               '2018-04-01', '2018-04-01', '2018-04-01', '2018-04-01',\n",
       "               '2018-04-01', '2018-04-01', '2018-04-01', '2018-04-01',\n",
       "               '2018-04-01', '2018-05-01', '2018-05-01', '2018-05-01',\n",
       "               '2018-05-01', '2018-05-01', '2018-05-01', '2018-05-01',\n",
       "               '2018-05-01', '2018-05-01', '2018-05-01', '2018-05-01',\n",
       "               '2018-05-01', '2018-05-01', '2018-05-01', '2018-05-01',\n",
       "               '2018-05-01', '2018-05-01', '2018-05-01', '2018-05-01',\n",
       "               '2018-05-01', '2018-05-01', '2018-06-01', '2018-06-01',\n",
       "               '2018-06-01', '2018-06-01', '2018-06-01', '2018-06-01',\n",
       "               '2018-06-01', '2018-06-01', '2018-06-01'],\n",
       "              dtype='datetime64[ns]', name='date', freq=None)"
      ]
     },
     "execution_count": 16,
     "metadata": {},
     "output_type": "execute_result"
    }
   ],
   "source": [
    "pd.to_datetime(stocks.index) + pd.tseries.offsets.MonthBegin()"
   ]
  },
  {
   "cell_type": "code",
   "execution_count": 17,
   "metadata": {
    "scrolled": true
   },
   "outputs": [
    {
     "data": {
      "text/plain": [
       "DatetimeIndex(['2018-01-01', '2018-01-01', '2018-01-01', '2018-01-01',\n",
       "               '2018-01-01', '2018-01-01', '2018-01-01', '2018-01-01',\n",
       "               '2018-01-01', '2018-01-01', '2018-01-01', '2018-01-01',\n",
       "               '2018-01-01', '2018-01-01', '2018-01-01', '2018-01-01',\n",
       "               '2018-01-01', '2018-01-01', '2018-01-01', '2018-01-01',\n",
       "               '2018-01-01', '2018-01-01', '2018-02-01', '2018-02-01',\n",
       "               '2018-02-01', '2018-02-01', '2018-02-01', '2018-02-01',\n",
       "               '2018-02-01', '2018-02-01', '2018-02-01', '2018-02-01',\n",
       "               '2018-02-01', '2018-02-01', '2018-02-01', '2018-02-01',\n",
       "               '2018-02-01', '2018-02-01', '2018-02-01', '2018-02-01',\n",
       "               '2018-02-01', '2018-03-01', '2018-03-01', '2018-03-01',\n",
       "               '2018-03-01', '2018-03-01', '2018-03-01', '2018-03-01',\n",
       "               '2018-03-01', '2018-03-01', '2018-03-01', '2018-03-01',\n",
       "               '2018-03-01', '2018-03-01', '2018-03-01', '2018-03-01',\n",
       "               '2018-03-01', '2018-03-01', '2018-03-01', '2018-03-01',\n",
       "               '2018-03-01', '2018-04-01', '2018-04-01', '2018-04-01',\n",
       "               '2018-04-01', '2018-04-01', '2018-04-01', '2018-04-01',\n",
       "               '2018-04-01', '2018-04-01', '2018-04-01', '2018-04-01',\n",
       "               '2018-04-01', '2018-04-01', '2018-04-01', '2018-04-01',\n",
       "               '2018-04-01', '2018-04-01', '2018-04-01', '2018-04-01',\n",
       "               '2018-04-01', '2018-04-01', '2018-04-01', '2018-05-01',\n",
       "               '2018-05-01', '2018-05-01', '2018-05-01', '2018-05-01',\n",
       "               '2018-05-01', '2018-05-01', '2018-05-01'],\n",
       "              dtype='datetime64[ns]', name='date', freq=None)"
      ]
     },
     "execution_count": 17,
     "metadata": {},
     "output_type": "execute_result"
    }
   ],
   "source": [
    "pd.to_datetime(stocks.index) - pd.tseries.offsets.MonthBegin()"
   ]
  },
  {
   "cell_type": "code",
   "execution_count": 19,
   "metadata": {},
   "outputs": [
    {
     "data": {
      "text/plain": [
       "DatetimeIndex(['2018-03-01', '2018-03-01', '2018-03-01', '2018-03-01',\n",
       "               '2018-03-01', '2018-03-01', '2018-03-01', '2018-03-01',\n",
       "               '2018-03-01', '2018-03-01', '2018-03-01', '2018-03-01',\n",
       "               '2018-03-01', '2018-03-01', '2018-03-01', '2018-03-01',\n",
       "               '2018-03-01', '2018-03-01', '2018-03-01', '2018-03-01',\n",
       "               '2018-03-01', '2018-03-01', '2018-03-01', '2018-03-01',\n",
       "               '2018-03-01', '2018-03-01', '2018-03-01', '2018-03-01',\n",
       "               '2018-03-01', '2018-03-01', '2018-03-01', '2018-03-01',\n",
       "               '2018-03-01', '2018-03-01', '2018-03-01', '2018-03-01',\n",
       "               '2018-03-01', '2018-03-01', '2018-03-01', '2018-03-01',\n",
       "               '2018-06-01', '2018-06-01', '2018-06-01', '2018-06-01',\n",
       "               '2018-06-01', '2018-06-01', '2018-06-01', '2018-06-01',\n",
       "               '2018-06-01', '2018-06-01', '2018-06-01', '2018-06-01',\n",
       "               '2018-06-01', '2018-06-01', '2018-06-01', '2018-06-01',\n",
       "               '2018-06-01', '2018-06-01', '2018-06-01', '2018-06-01',\n",
       "               '2018-06-01', '2018-06-01', '2018-06-01', '2018-06-01',\n",
       "               '2018-06-01', '2018-06-01', '2018-06-01', '2018-06-01',\n",
       "               '2018-06-01', '2018-06-01', '2018-06-01', '2018-06-01',\n",
       "               '2018-06-01', '2018-06-01', '2018-06-01', '2018-06-01',\n",
       "               '2018-06-01', '2018-06-01', '2018-06-01', '2018-06-01',\n",
       "               '2018-06-01', '2018-06-01', '2018-06-01', '2018-06-01',\n",
       "               '2018-06-01', '2018-06-01', '2018-06-01', '2018-06-01',\n",
       "               '2018-06-01', '2018-06-01', '2018-06-01'],\n",
       "              dtype='datetime64[ns]', name='date', freq=None)"
      ]
     },
     "execution_count": 19,
     "metadata": {},
     "output_type": "execute_result"
    }
   ],
   "source": [
    "#  相關的函式很多，可參閱官方文件\n",
    "#  QuarterEnd(季結束)，QuarterBegin(季開始)\n",
    "pd.to_datetime(stocks.index) + pd.tseries.offsets.QuarterBegin()\n",
    "#  pd.to_datetime(stocks.index) - pd.tseries.offsets.QuarterBegin()"
   ]
  },
  {
   "cell_type": "code",
   "execution_count": 20,
   "metadata": {},
   "outputs": [
    {
     "data": {
      "text/plain": [
       "DatetimeIndex(['2018-12-31', '2018-12-31', '2018-12-31', '2018-12-31',\n",
       "               '2018-12-31', '2018-12-31', '2018-12-31', '2018-12-31',\n",
       "               '2018-12-31', '2018-12-31', '2018-12-31', '2018-12-31',\n",
       "               '2018-12-31', '2018-12-31', '2018-12-31', '2018-12-31',\n",
       "               '2018-12-31', '2018-12-31', '2018-12-31', '2018-12-31',\n",
       "               '2018-12-31', '2018-12-31', '2018-12-31', '2018-12-31',\n",
       "               '2018-12-31', '2018-12-31', '2018-12-31', '2018-12-31',\n",
       "               '2018-12-31', '2018-12-31', '2018-12-31', '2018-12-31',\n",
       "               '2018-12-31', '2018-12-31', '2018-12-31', '2018-12-31',\n",
       "               '2018-12-31', '2018-12-31', '2018-12-31', '2018-12-31',\n",
       "               '2018-12-31', '2018-12-31', '2018-12-31', '2018-12-31',\n",
       "               '2018-12-31', '2018-12-31', '2018-12-31', '2018-12-31',\n",
       "               '2018-12-31', '2018-12-31', '2018-12-31', '2018-12-31',\n",
       "               '2018-12-31', '2018-12-31', '2018-12-31', '2018-12-31',\n",
       "               '2018-12-31', '2018-12-31', '2018-12-31', '2018-12-31',\n",
       "               '2018-12-31', '2018-12-31', '2018-12-31', '2018-12-31',\n",
       "               '2018-12-31', '2018-12-31', '2018-12-31', '2018-12-31',\n",
       "               '2018-12-31', '2018-12-31', '2018-12-31', '2018-12-31',\n",
       "               '2018-12-31', '2018-12-31', '2018-12-31', '2018-12-31',\n",
       "               '2018-12-31', '2018-12-31', '2018-12-31', '2018-12-31',\n",
       "               '2018-12-31', '2018-12-31', '2018-12-31', '2018-12-31',\n",
       "               '2018-12-31', '2018-12-31', '2018-12-31', '2018-12-31',\n",
       "               '2018-12-31', '2018-12-31', '2018-12-31'],\n",
       "              dtype='datetime64[ns]', name='date', freq=None)"
      ]
     },
     "execution_count": 20,
     "metadata": {},
     "output_type": "execute_result"
    }
   ],
   "source": [
    "pd.to_datetime(stocks.index) + pd.tseries.offsets.YearEnd()"
   ]
  },
  {
   "cell_type": "code",
   "execution_count": 21,
   "metadata": {},
   "outputs": [
    {
     "data": {
      "text/plain": [
       "DatetimeIndex(['2017-12-31', '2017-12-31', '2017-12-31', '2017-12-31',\n",
       "               '2017-12-31', '2017-12-31', '2017-12-31', '2017-12-31',\n",
       "               '2017-12-31', '2017-12-31', '2017-12-31', '2017-12-31',\n",
       "               '2017-12-31', '2017-12-31', '2017-12-31', '2017-12-31',\n",
       "               '2017-12-31', '2017-12-31', '2017-12-31', '2017-12-31',\n",
       "               '2017-12-31', '2017-12-31', '2017-12-31', '2017-12-31',\n",
       "               '2017-12-31', '2017-12-31', '2017-12-31', '2017-12-31',\n",
       "               '2017-12-31', '2017-12-31', '2017-12-31', '2017-12-31',\n",
       "               '2017-12-31', '2017-12-31', '2017-12-31', '2017-12-31',\n",
       "               '2017-12-31', '2017-12-31', '2017-12-31', '2017-12-31',\n",
       "               '2017-12-31', '2017-12-31', '2017-12-31', '2017-12-31',\n",
       "               '2017-12-31', '2017-12-31', '2017-12-31', '2017-12-31',\n",
       "               '2017-12-31', '2017-12-31', '2017-12-31', '2017-12-31',\n",
       "               '2017-12-31', '2017-12-31', '2017-12-31', '2017-12-31',\n",
       "               '2017-12-31', '2017-12-31', '2017-12-31', '2017-12-31',\n",
       "               '2017-12-31', '2017-12-31', '2017-12-31', '2017-12-31',\n",
       "               '2017-12-31', '2017-12-31', '2017-12-31', '2017-12-31',\n",
       "               '2017-12-31', '2017-12-31', '2017-12-31', '2017-12-31',\n",
       "               '2017-12-31', '2017-12-31', '2017-12-31', '2017-12-31',\n",
       "               '2017-12-31', '2017-12-31', '2017-12-31', '2017-12-31',\n",
       "               '2017-12-31', '2017-12-31', '2017-12-31', '2017-12-31',\n",
       "               '2017-12-31', '2017-12-31', '2017-12-31', '2017-12-31',\n",
       "               '2017-12-31', '2017-12-31', '2017-12-31'],\n",
       "              dtype='datetime64[ns]', name='date', freq=None)"
      ]
     },
     "execution_count": 21,
     "metadata": {},
     "output_type": "execute_result"
    }
   ],
   "source": [
    "pd.to_datetime(stocks.index) - pd.tseries.offsets.YearEnd()"
   ]
  },
  {
   "cell_type": "markdown",
   "metadata": {
    "collapsed": true
   },
   "source": [
    "## The Timedelta Object"
   ]
  },
  {
   "cell_type": "code",
   "execution_count": 1,
   "metadata": {
    "collapsed": true
   },
   "outputs": [],
   "source": [
    "import pandas as pd\n",
    "import datetime as dt"
   ]
  },
  {
   "cell_type": "code",
   "execution_count": 8,
   "metadata": {},
   "outputs": [],
   "source": [
    "#  設置兩個timestamp變數\n",
    "timeA = pd.Timestamp('2018-05-14')\n",
    "timeB = pd.Timestamp('2018-05-01')"
   ]
  },
  {
   "cell_type": "code",
   "execution_count": 9,
   "metadata": {},
   "outputs": [
    {
     "data": {
      "text/plain": [
       "Timedelta('13 days 00:00:00')"
      ]
     },
     "execution_count": 9,
     "metadata": {},
     "output_type": "execute_result"
    }
   ],
   "source": [
    "#  直接兩個timestamp物件相減也可以計算兩日期的間隔\n",
    "timeA - timeB"
   ]
  },
  {
   "cell_type": "code",
   "execution_count": 17,
   "metadata": {},
   "outputs": [],
   "source": [
    "timeA = pd.Timestamp('2018-05-14 08:00:00 AM')\n",
    "timeB = pd.Timestamp('2018-05-01 05:00:00 PM')"
   ]
  },
  {
   "cell_type": "code",
   "execution_count": 12,
   "metadata": {},
   "outputs": [
    {
     "data": {
      "text/plain": [
       "Timedelta('12 days 15:00:00')"
      ]
     },
     "execution_count": 12,
     "metadata": {},
     "output_type": "execute_result"
    }
   ],
   "source": [
    "#  如果時間上有時分秒也會列入計算\n",
    "timeA - timeB"
   ]
  },
  {
   "cell_type": "code",
   "execution_count": 13,
   "metadata": {},
   "outputs": [
    {
     "data": {
      "text/plain": [
       "pandas._libs.tslib.Timedelta"
      ]
     },
     "execution_count": 13,
     "metadata": {},
     "output_type": "execute_result"
    }
   ],
   "source": [
    "#  資料的型別不是timestamp 而是timedelta\n",
    "type(timeA - timeB)"
   ]
  },
  {
   "cell_type": "code",
   "execution_count": 14,
   "metadata": {},
   "outputs": [
    {
     "data": {
      "text/plain": [
       "Timedelta('-13 days +09:00:00')"
      ]
     },
     "execution_count": 14,
     "metadata": {},
     "output_type": "execute_result"
    }
   ],
   "source": [
    "#  小的日期減大的日期也會執行，回傳為負日期\n",
    "timeB-timeA"
   ]
  },
  {
   "cell_type": "code",
   "execution_count": 15,
   "metadata": {},
   "outputs": [
    {
     "data": {
      "text/plain": [
       "Timedelta('3 days 00:00:00')"
      ]
     },
     "execution_count": 15,
     "metadata": {},
     "output_type": "execute_result"
    }
   ],
   "source": [
    "#  Timedelta與TimeOffset觀念相同\n",
    "pd.Timedelta(days=3)"
   ]
  },
  {
   "cell_type": "code",
   "execution_count": 18,
   "metadata": {},
   "outputs": [
    {
     "data": {
      "text/plain": [
       "Timestamp('2018-05-17 08:00:00')"
      ]
     },
     "execution_count": 18,
     "metadata": {},
     "output_type": "execute_result"
    }
   ],
   "source": [
    "timeA + pd.Timedelta(days=3)"
   ]
  },
  {
   "cell_type": "code",
   "execution_count": 20,
   "metadata": {},
   "outputs": [
    {
     "data": {
      "text/plain": [
       "Timedelta('2 days 05:12:00')"
      ]
     },
     "execution_count": 20,
     "metadata": {},
     "output_type": "execute_result"
    }
   ],
   "source": [
    "#  也可以很口語化的設置，但建議上是以上面的方式來設置較為標準\n",
    "pd.Timedelta('2 days 5 hours 12 minutes')"
   ]
  },
  {
   "cell_type": "markdown",
   "metadata": {},
   "source": [
    "## Timedeltas in Dataset"
   ]
  },
  {
   "cell_type": "code",
   "execution_count": 29,
   "metadata": {},
   "outputs": [
    {
     "data": {
      "text/html": [
       "<div>\n",
       "<style>\n",
       "    .dataframe thead tr:only-child th {\n",
       "        text-align: right;\n",
       "    }\n",
       "\n",
       "    .dataframe thead th {\n",
       "        text-align: left;\n",
       "    }\n",
       "\n",
       "    .dataframe tbody tr th {\n",
       "        vertical-align: top;\n",
       "    }\n",
       "</style>\n",
       "<table border=\"1\" class=\"dataframe\">\n",
       "  <thead>\n",
       "    <tr style=\"text-align: right;\">\n",
       "      <th></th>\n",
       "      <th>ID</th>\n",
       "      <th>order_date</th>\n",
       "      <th>delivery_date</th>\n",
       "    </tr>\n",
       "  </thead>\n",
       "  <tbody>\n",
       "    <tr>\n",
       "      <th>0</th>\n",
       "      <td>1</td>\n",
       "      <td>5/24/98</td>\n",
       "      <td>2/5/99</td>\n",
       "    </tr>\n",
       "    <tr>\n",
       "      <th>1</th>\n",
       "      <td>2</td>\n",
       "      <td>4/22/92</td>\n",
       "      <td>3/6/98</td>\n",
       "    </tr>\n",
       "    <tr>\n",
       "      <th>2</th>\n",
       "      <td>4</td>\n",
       "      <td>2/10/91</td>\n",
       "      <td>8/26/92</td>\n",
       "    </tr>\n",
       "    <tr>\n",
       "      <th>3</th>\n",
       "      <td>5</td>\n",
       "      <td>7/21/92</td>\n",
       "      <td>11/20/97</td>\n",
       "    </tr>\n",
       "    <tr>\n",
       "      <th>4</th>\n",
       "      <td>7</td>\n",
       "      <td>9/2/93</td>\n",
       "      <td>6/10/98</td>\n",
       "    </tr>\n",
       "  </tbody>\n",
       "</table>\n",
       "</div>"
      ],
      "text/plain": [
       "   ID order_date delivery_date\n",
       "0   1    5/24/98        2/5/99\n",
       "1   2    4/22/92        3/6/98\n",
       "2   4    2/10/91       8/26/92\n",
       "3   5    7/21/92      11/20/97\n",
       "4   7     9/2/93       6/10/98"
      ]
     },
     "execution_count": 29,
     "metadata": {},
     "output_type": "execute_result"
    }
   ],
   "source": [
    "#  這是一個虛擬資料，上面有訂單日與運送日\n",
    "pd.read_csv('ecommerce.csv').head()"
   ]
  },
  {
   "cell_type": "code",
   "execution_count": 30,
   "metadata": {},
   "outputs": [
    {
     "data": {
      "text/html": [
       "<div>\n",
       "<style>\n",
       "    .dataframe thead tr:only-child th {\n",
       "        text-align: right;\n",
       "    }\n",
       "\n",
       "    .dataframe thead th {\n",
       "        text-align: left;\n",
       "    }\n",
       "\n",
       "    .dataframe tbody tr th {\n",
       "        vertical-align: top;\n",
       "    }\n",
       "</style>\n",
       "<table border=\"1\" class=\"dataframe\">\n",
       "  <thead>\n",
       "    <tr style=\"text-align: right;\">\n",
       "      <th></th>\n",
       "      <th>order_date</th>\n",
       "      <th>delivery_date</th>\n",
       "    </tr>\n",
       "    <tr>\n",
       "      <th>ID</th>\n",
       "      <th></th>\n",
       "      <th></th>\n",
       "    </tr>\n",
       "  </thead>\n",
       "  <tbody>\n",
       "    <tr>\n",
       "      <th>1</th>\n",
       "      <td>1998-05-24</td>\n",
       "      <td>1999-02-05</td>\n",
       "    </tr>\n",
       "    <tr>\n",
       "      <th>2</th>\n",
       "      <td>1992-04-22</td>\n",
       "      <td>1998-03-06</td>\n",
       "    </tr>\n",
       "    <tr>\n",
       "      <th>4</th>\n",
       "      <td>1991-02-10</td>\n",
       "      <td>1992-08-26</td>\n",
       "    </tr>\n",
       "    <tr>\n",
       "      <th>5</th>\n",
       "      <td>1992-07-21</td>\n",
       "      <td>1997-11-20</td>\n",
       "    </tr>\n",
       "    <tr>\n",
       "      <th>7</th>\n",
       "      <td>1993-09-02</td>\n",
       "      <td>1998-06-10</td>\n",
       "    </tr>\n",
       "  </tbody>\n",
       "</table>\n",
       "</div>"
      ],
      "text/plain": [
       "   order_date delivery_date\n",
       "ID                         \n",
       "1  1998-05-24    1999-02-05\n",
       "2  1992-04-22    1998-03-06\n",
       "4  1991-02-10    1992-08-26\n",
       "5  1992-07-21    1997-11-20\n",
       "7  1993-09-02    1998-06-10"
      ]
     },
     "execution_count": 30,
     "metadata": {},
     "output_type": "execute_result"
    }
   ],
   "source": [
    "#  首先我們要將id設置為索引\n",
    "#  並且讓日期確定是日期格式\n",
    "shipping = pd.read_csv('ecommerce.csv', index_col='ID', parse_dates=['order_date', 'delivery_date'])\n",
    "shipping.head()"
   ]
  },
  {
   "cell_type": "code",
   "execution_count": 31,
   "metadata": {},
   "outputs": [
    {
     "data": {
      "text/html": [
       "<div>\n",
       "<style>\n",
       "    .dataframe thead tr:only-child th {\n",
       "        text-align: right;\n",
       "    }\n",
       "\n",
       "    .dataframe thead th {\n",
       "        text-align: left;\n",
       "    }\n",
       "\n",
       "    .dataframe tbody tr th {\n",
       "        vertical-align: top;\n",
       "    }\n",
       "</style>\n",
       "<table border=\"1\" class=\"dataframe\">\n",
       "  <thead>\n",
       "    <tr style=\"text-align: right;\">\n",
       "      <th></th>\n",
       "      <th>order_date</th>\n",
       "      <th>delivery_date</th>\n",
       "      <th>delivery_time</th>\n",
       "    </tr>\n",
       "    <tr>\n",
       "      <th>ID</th>\n",
       "      <th></th>\n",
       "      <th></th>\n",
       "      <th></th>\n",
       "    </tr>\n",
       "  </thead>\n",
       "  <tbody>\n",
       "    <tr>\n",
       "      <th>1</th>\n",
       "      <td>1998-05-24</td>\n",
       "      <td>1999-02-05</td>\n",
       "      <td>257 days</td>\n",
       "    </tr>\n",
       "    <tr>\n",
       "      <th>2</th>\n",
       "      <td>1992-04-22</td>\n",
       "      <td>1998-03-06</td>\n",
       "      <td>2144 days</td>\n",
       "    </tr>\n",
       "    <tr>\n",
       "      <th>4</th>\n",
       "      <td>1991-02-10</td>\n",
       "      <td>1992-08-26</td>\n",
       "      <td>563 days</td>\n",
       "    </tr>\n",
       "    <tr>\n",
       "      <th>5</th>\n",
       "      <td>1992-07-21</td>\n",
       "      <td>1997-11-20</td>\n",
       "      <td>1948 days</td>\n",
       "    </tr>\n",
       "    <tr>\n",
       "      <th>7</th>\n",
       "      <td>1993-09-02</td>\n",
       "      <td>1998-06-10</td>\n",
       "      <td>1742 days</td>\n",
       "    </tr>\n",
       "  </tbody>\n",
       "</table>\n",
       "</div>"
      ],
      "text/plain": [
       "   order_date delivery_date delivery_time\n",
       "ID                                       \n",
       "1  1998-05-24    1999-02-05      257 days\n",
       "2  1992-04-22    1998-03-06     2144 days\n",
       "4  1991-02-10    1992-08-26      563 days\n",
       "5  1992-07-21    1997-11-20     1948 days\n",
       "7  1993-09-02    1998-06-10     1742 days"
      ]
     },
     "execution_count": 31,
     "metadata": {},
     "output_type": "execute_result"
    }
   ],
   "source": [
    "#  計算訂單花多少時間出貨，回傳timedelta格式\n",
    "shipping['delivery_time'] = shipping['delivery_date']- shipping['order_date']\n",
    "shipping.head()"
   ]
  },
  {
   "cell_type": "code",
   "execution_count": 32,
   "metadata": {
    "scrolled": true
   },
   "outputs": [
    {
     "data": {
      "text/plain": [
       "ID\n",
       "1     1998-05-24\n",
       "2     1992-04-22\n",
       "4     1991-02-10\n",
       "5     1992-07-21\n",
       "7     1993-09-02\n",
       "8     1993-06-10\n",
       "9     1990-01-25\n",
       "10    1992-02-23\n",
       "11    1996-07-12\n",
       "18    1995-06-18\n",
       "19    1998-05-10\n",
       "20    1992-10-17\n",
       "23    1992-05-30\n",
       "26    1996-04-11\n",
       "30    1998-10-22\n",
       "32    1990-01-20\n",
       "33    1994-09-21\n",
       "35    1993-09-10\n",
       "36    1990-05-15\n",
       "39    1990-03-26\n",
       "41    1992-02-06\n",
       "46    1995-09-05\n",
       "50    1991-05-03\n",
       "52    1994-09-02\n",
       "53    1995-11-29\n",
       "54    1996-08-07\n",
       "58    1995-02-11\n",
       "59    1995-09-29\n",
       "60    1993-02-14\n",
       "63    1990-12-22\n",
       "         ...    \n",
       "932   1997-07-25\n",
       "934   1995-05-22\n",
       "935   1990-09-26\n",
       "938   1993-03-24\n",
       "939   1998-10-01\n",
       "942   1992-04-14\n",
       "943   1991-01-30\n",
       "945   1992-10-27\n",
       "946   1991-07-02\n",
       "947   1991-06-18\n",
       "949   1991-10-07\n",
       "951   1991-10-02\n",
       "953   1991-09-26\n",
       "954   1993-08-08\n",
       "956   1995-08-23\n",
       "957   1994-10-01\n",
       "958   1990-04-26\n",
       "969   1996-09-24\n",
       "972   1990-02-07\n",
       "975   1997-06-18\n",
       "981   1997-01-31\n",
       "983   1994-12-30\n",
       "984   1991-07-25\n",
       "985   1995-07-26\n",
       "986   1990-12-10\n",
       "990   1991-06-24\n",
       "991   1991-09-09\n",
       "993   1990-11-16\n",
       "994   1993-06-03\n",
       "997   1990-01-04\n",
       "Length: 501, dtype: datetime64[ns]"
      ]
     },
     "execution_count": 32,
     "metadata": {},
     "output_type": "execute_result"
    }
   ],
   "source": [
    "#  以出貨減間隔時間得到訂單時間，這時候的格式為datetime\n",
    "shipping['delivery_date'] - shipping['delivery_time']"
   ]
  },
  {
   "cell_type": "code",
   "execution_count": 33,
   "metadata": {},
   "outputs": [
    {
     "data": {
      "text/plain": [
       "order_date        datetime64[ns]\n",
       "delivery_date     datetime64[ns]\n",
       "delivery_time    timedelta64[ns]\n",
       "dtype: object"
      ]
     },
     "execution_count": 33,
     "metadata": {},
     "output_type": "execute_result"
    }
   ],
   "source": [
    "shipping.dtypes"
   ]
  },
  {
   "cell_type": "code",
   "execution_count": 34,
   "metadata": {
    "collapsed": true
   },
   "outputs": [],
   "source": [
    "#  也可以快速的以新增的欄位做遮罩\n",
    "mask = shipping['delivery_time'] > '365 days'"
   ]
  },
  {
   "cell_type": "code",
   "execution_count": 35,
   "metadata": {
    "scrolled": true
   },
   "outputs": [
    {
     "data": {
      "text/html": [
       "<div>\n",
       "<style>\n",
       "    .dataframe thead tr:only-child th {\n",
       "        text-align: right;\n",
       "    }\n",
       "\n",
       "    .dataframe thead th {\n",
       "        text-align: left;\n",
       "    }\n",
       "\n",
       "    .dataframe tbody tr th {\n",
       "        vertical-align: top;\n",
       "    }\n",
       "</style>\n",
       "<table border=\"1\" class=\"dataframe\">\n",
       "  <thead>\n",
       "    <tr style=\"text-align: right;\">\n",
       "      <th></th>\n",
       "      <th>order_date</th>\n",
       "      <th>delivery_date</th>\n",
       "      <th>delivery_time</th>\n",
       "    </tr>\n",
       "    <tr>\n",
       "      <th>ID</th>\n",
       "      <th></th>\n",
       "      <th></th>\n",
       "      <th></th>\n",
       "    </tr>\n",
       "  </thead>\n",
       "  <tbody>\n",
       "    <tr>\n",
       "      <th>2</th>\n",
       "      <td>1992-04-22</td>\n",
       "      <td>1998-03-06</td>\n",
       "      <td>2144 days</td>\n",
       "    </tr>\n",
       "    <tr>\n",
       "      <th>4</th>\n",
       "      <td>1991-02-10</td>\n",
       "      <td>1992-08-26</td>\n",
       "      <td>563 days</td>\n",
       "    </tr>\n",
       "    <tr>\n",
       "      <th>5</th>\n",
       "      <td>1992-07-21</td>\n",
       "      <td>1997-11-20</td>\n",
       "      <td>1948 days</td>\n",
       "    </tr>\n",
       "    <tr>\n",
       "      <th>7</th>\n",
       "      <td>1993-09-02</td>\n",
       "      <td>1998-06-10</td>\n",
       "      <td>1742 days</td>\n",
       "    </tr>\n",
       "    <tr>\n",
       "      <th>9</th>\n",
       "      <td>1990-01-25</td>\n",
       "      <td>1994-10-02</td>\n",
       "      <td>1711 days</td>\n",
       "    </tr>\n",
       "    <tr>\n",
       "      <th>10</th>\n",
       "      <td>1992-02-23</td>\n",
       "      <td>1998-12-30</td>\n",
       "      <td>2502 days</td>\n",
       "    </tr>\n",
       "    <tr>\n",
       "      <th>11</th>\n",
       "      <td>1996-07-12</td>\n",
       "      <td>1997-07-14</td>\n",
       "      <td>367 days</td>\n",
       "    </tr>\n",
       "    <tr>\n",
       "      <th>18</th>\n",
       "      <td>1995-06-18</td>\n",
       "      <td>1997-10-13</td>\n",
       "      <td>848 days</td>\n",
       "    </tr>\n",
       "    <tr>\n",
       "      <th>20</th>\n",
       "      <td>1992-10-17</td>\n",
       "      <td>1998-10-06</td>\n",
       "      <td>2180 days</td>\n",
       "    </tr>\n",
       "    <tr>\n",
       "      <th>23</th>\n",
       "      <td>1992-05-30</td>\n",
       "      <td>1999-08-15</td>\n",
       "      <td>2633 days</td>\n",
       "    </tr>\n",
       "    <tr>\n",
       "      <th>26</th>\n",
       "      <td>1996-04-11</td>\n",
       "      <td>1998-05-04</td>\n",
       "      <td>753 days</td>\n",
       "    </tr>\n",
       "    <tr>\n",
       "      <th>32</th>\n",
       "      <td>1990-01-20</td>\n",
       "      <td>1998-07-24</td>\n",
       "      <td>3107 days</td>\n",
       "    </tr>\n",
       "    <tr>\n",
       "      <th>33</th>\n",
       "      <td>1994-09-21</td>\n",
       "      <td>1996-10-12</td>\n",
       "      <td>752 days</td>\n",
       "    </tr>\n",
       "    <tr>\n",
       "      <th>35</th>\n",
       "      <td>1993-09-10</td>\n",
       "      <td>1996-04-28</td>\n",
       "      <td>961 days</td>\n",
       "    </tr>\n",
       "    <tr>\n",
       "      <th>36</th>\n",
       "      <td>1990-05-15</td>\n",
       "      <td>1994-02-14</td>\n",
       "      <td>1371 days</td>\n",
       "    </tr>\n",
       "    <tr>\n",
       "      <th>39</th>\n",
       "      <td>1990-03-26</td>\n",
       "      <td>1993-01-25</td>\n",
       "      <td>1036 days</td>\n",
       "    </tr>\n",
       "    <tr>\n",
       "      <th>41</th>\n",
       "      <td>1992-02-06</td>\n",
       "      <td>1996-05-10</td>\n",
       "      <td>1555 days</td>\n",
       "    </tr>\n",
       "    <tr>\n",
       "      <th>50</th>\n",
       "      <td>1991-05-03</td>\n",
       "      <td>1999-07-17</td>\n",
       "      <td>2997 days</td>\n",
       "    </tr>\n",
       "    <tr>\n",
       "      <th>52</th>\n",
       "      <td>1994-09-02</td>\n",
       "      <td>1997-05-14</td>\n",
       "      <td>985 days</td>\n",
       "    </tr>\n",
       "    <tr>\n",
       "      <th>53</th>\n",
       "      <td>1995-11-29</td>\n",
       "      <td>1998-06-23</td>\n",
       "      <td>937 days</td>\n",
       "    </tr>\n",
       "    <tr>\n",
       "      <th>54</th>\n",
       "      <td>1996-08-07</td>\n",
       "      <td>1998-04-04</td>\n",
       "      <td>605 days</td>\n",
       "    </tr>\n",
       "    <tr>\n",
       "      <th>60</th>\n",
       "      <td>1993-02-14</td>\n",
       "      <td>1995-08-06</td>\n",
       "      <td>903 days</td>\n",
       "    </tr>\n",
       "    <tr>\n",
       "      <th>63</th>\n",
       "      <td>1990-12-22</td>\n",
       "      <td>1995-09-02</td>\n",
       "      <td>1715 days</td>\n",
       "    </tr>\n",
       "    <tr>\n",
       "      <th>64</th>\n",
       "      <td>1990-11-25</td>\n",
       "      <td>1998-05-14</td>\n",
       "      <td>2727 days</td>\n",
       "    </tr>\n",
       "    <tr>\n",
       "      <th>66</th>\n",
       "      <td>1992-09-08</td>\n",
       "      <td>1998-12-29</td>\n",
       "      <td>2303 days</td>\n",
       "    </tr>\n",
       "    <tr>\n",
       "      <th>67</th>\n",
       "      <td>1990-05-04</td>\n",
       "      <td>1993-02-04</td>\n",
       "      <td>1007 days</td>\n",
       "    </tr>\n",
       "    <tr>\n",
       "      <th>70</th>\n",
       "      <td>1994-02-16</td>\n",
       "      <td>1999-11-06</td>\n",
       "      <td>2089 days</td>\n",
       "    </tr>\n",
       "    <tr>\n",
       "      <th>71</th>\n",
       "      <td>1990-11-25</td>\n",
       "      <td>1998-04-06</td>\n",
       "      <td>2689 days</td>\n",
       "    </tr>\n",
       "    <tr>\n",
       "      <th>73</th>\n",
       "      <td>1991-10-01</td>\n",
       "      <td>1993-05-19</td>\n",
       "      <td>596 days</td>\n",
       "    </tr>\n",
       "    <tr>\n",
       "      <th>75</th>\n",
       "      <td>1990-06-25</td>\n",
       "      <td>1996-12-18</td>\n",
       "      <td>2368 days</td>\n",
       "    </tr>\n",
       "    <tr>\n",
       "      <th>...</th>\n",
       "      <td>...</td>\n",
       "      <td>...</td>\n",
       "      <td>...</td>\n",
       "    </tr>\n",
       "    <tr>\n",
       "      <th>907</th>\n",
       "      <td>1994-08-11</td>\n",
       "      <td>1998-09-28</td>\n",
       "      <td>1509 days</td>\n",
       "    </tr>\n",
       "    <tr>\n",
       "      <th>908</th>\n",
       "      <td>1993-11-04</td>\n",
       "      <td>1997-02-26</td>\n",
       "      <td>1210 days</td>\n",
       "    </tr>\n",
       "    <tr>\n",
       "      <th>909</th>\n",
       "      <td>1991-01-19</td>\n",
       "      <td>1998-08-22</td>\n",
       "      <td>2772 days</td>\n",
       "    </tr>\n",
       "    <tr>\n",
       "      <th>916</th>\n",
       "      <td>1994-12-03</td>\n",
       "      <td>1997-03-26</td>\n",
       "      <td>844 days</td>\n",
       "    </tr>\n",
       "    <tr>\n",
       "      <th>918</th>\n",
       "      <td>1994-12-29</td>\n",
       "      <td>1996-07-29</td>\n",
       "      <td>578 days</td>\n",
       "    </tr>\n",
       "    <tr>\n",
       "      <th>919</th>\n",
       "      <td>1992-01-25</td>\n",
       "      <td>1993-06-01</td>\n",
       "      <td>493 days</td>\n",
       "    </tr>\n",
       "    <tr>\n",
       "      <th>922</th>\n",
       "      <td>1996-07-06</td>\n",
       "      <td>1998-12-05</td>\n",
       "      <td>882 days</td>\n",
       "    </tr>\n",
       "    <tr>\n",
       "      <th>924</th>\n",
       "      <td>1991-03-17</td>\n",
       "      <td>1996-05-13</td>\n",
       "      <td>1884 days</td>\n",
       "    </tr>\n",
       "    <tr>\n",
       "      <th>926</th>\n",
       "      <td>1990-10-31</td>\n",
       "      <td>1994-04-12</td>\n",
       "      <td>1259 days</td>\n",
       "    </tr>\n",
       "    <tr>\n",
       "      <th>935</th>\n",
       "      <td>1990-09-26</td>\n",
       "      <td>1998-03-07</td>\n",
       "      <td>2719 days</td>\n",
       "    </tr>\n",
       "    <tr>\n",
       "      <th>938</th>\n",
       "      <td>1993-03-24</td>\n",
       "      <td>1995-07-15</td>\n",
       "      <td>843 days</td>\n",
       "    </tr>\n",
       "    <tr>\n",
       "      <th>942</th>\n",
       "      <td>1992-04-14</td>\n",
       "      <td>1997-03-03</td>\n",
       "      <td>1784 days</td>\n",
       "    </tr>\n",
       "    <tr>\n",
       "      <th>943</th>\n",
       "      <td>1991-01-30</td>\n",
       "      <td>1999-12-02</td>\n",
       "      <td>3228 days</td>\n",
       "    </tr>\n",
       "    <tr>\n",
       "      <th>945</th>\n",
       "      <td>1992-10-27</td>\n",
       "      <td>1994-11-03</td>\n",
       "      <td>737 days</td>\n",
       "    </tr>\n",
       "    <tr>\n",
       "      <th>946</th>\n",
       "      <td>1991-07-02</td>\n",
       "      <td>1996-02-23</td>\n",
       "      <td>1697 days</td>\n",
       "    </tr>\n",
       "    <tr>\n",
       "      <th>947</th>\n",
       "      <td>1991-06-18</td>\n",
       "      <td>1999-06-11</td>\n",
       "      <td>2915 days</td>\n",
       "    </tr>\n",
       "    <tr>\n",
       "      <th>951</th>\n",
       "      <td>1991-10-02</td>\n",
       "      <td>1994-04-18</td>\n",
       "      <td>929 days</td>\n",
       "    </tr>\n",
       "    <tr>\n",
       "      <th>953</th>\n",
       "      <td>1991-09-26</td>\n",
       "      <td>1994-05-08</td>\n",
       "      <td>955 days</td>\n",
       "    </tr>\n",
       "    <tr>\n",
       "      <th>956</th>\n",
       "      <td>1995-08-23</td>\n",
       "      <td>1999-01-10</td>\n",
       "      <td>1236 days</td>\n",
       "    </tr>\n",
       "    <tr>\n",
       "      <th>957</th>\n",
       "      <td>1994-10-01</td>\n",
       "      <td>1999-07-25</td>\n",
       "      <td>1758 days</td>\n",
       "    </tr>\n",
       "    <tr>\n",
       "      <th>958</th>\n",
       "      <td>1990-04-26</td>\n",
       "      <td>1997-06-29</td>\n",
       "      <td>2621 days</td>\n",
       "    </tr>\n",
       "    <tr>\n",
       "      <th>972</th>\n",
       "      <td>1990-02-07</td>\n",
       "      <td>1995-11-05</td>\n",
       "      <td>2097 days</td>\n",
       "    </tr>\n",
       "    <tr>\n",
       "      <th>981</th>\n",
       "      <td>1997-01-31</td>\n",
       "      <td>1998-03-04</td>\n",
       "      <td>397 days</td>\n",
       "    </tr>\n",
       "    <tr>\n",
       "      <th>983</th>\n",
       "      <td>1994-12-30</td>\n",
       "      <td>1997-07-29</td>\n",
       "      <td>942 days</td>\n",
       "    </tr>\n",
       "    <tr>\n",
       "      <th>984</th>\n",
       "      <td>1991-07-25</td>\n",
       "      <td>1999-02-09</td>\n",
       "      <td>2756 days</td>\n",
       "    </tr>\n",
       "    <tr>\n",
       "      <th>986</th>\n",
       "      <td>1990-12-10</td>\n",
       "      <td>1992-12-16</td>\n",
       "      <td>737 days</td>\n",
       "    </tr>\n",
       "    <tr>\n",
       "      <th>990</th>\n",
       "      <td>1991-06-24</td>\n",
       "      <td>1996-02-02</td>\n",
       "      <td>1684 days</td>\n",
       "    </tr>\n",
       "    <tr>\n",
       "      <th>991</th>\n",
       "      <td>1991-09-09</td>\n",
       "      <td>1998-03-30</td>\n",
       "      <td>2394 days</td>\n",
       "    </tr>\n",
       "    <tr>\n",
       "      <th>993</th>\n",
       "      <td>1990-11-16</td>\n",
       "      <td>1998-04-27</td>\n",
       "      <td>2719 days</td>\n",
       "    </tr>\n",
       "    <tr>\n",
       "      <th>997</th>\n",
       "      <td>1990-01-04</td>\n",
       "      <td>1991-10-03</td>\n",
       "      <td>637 days</td>\n",
       "    </tr>\n",
       "  </tbody>\n",
       "</table>\n",
       "<p>394 rows × 3 columns</p>\n",
       "</div>"
      ],
      "text/plain": [
       "    order_date delivery_date delivery_time\n",
       "ID                                        \n",
       "2   1992-04-22    1998-03-06     2144 days\n",
       "4   1991-02-10    1992-08-26      563 days\n",
       "5   1992-07-21    1997-11-20     1948 days\n",
       "7   1993-09-02    1998-06-10     1742 days\n",
       "9   1990-01-25    1994-10-02     1711 days\n",
       "10  1992-02-23    1998-12-30     2502 days\n",
       "11  1996-07-12    1997-07-14      367 days\n",
       "18  1995-06-18    1997-10-13      848 days\n",
       "20  1992-10-17    1998-10-06     2180 days\n",
       "23  1992-05-30    1999-08-15     2633 days\n",
       "26  1996-04-11    1998-05-04      753 days\n",
       "32  1990-01-20    1998-07-24     3107 days\n",
       "33  1994-09-21    1996-10-12      752 days\n",
       "35  1993-09-10    1996-04-28      961 days\n",
       "36  1990-05-15    1994-02-14     1371 days\n",
       "39  1990-03-26    1993-01-25     1036 days\n",
       "41  1992-02-06    1996-05-10     1555 days\n",
       "50  1991-05-03    1999-07-17     2997 days\n",
       "52  1994-09-02    1997-05-14      985 days\n",
       "53  1995-11-29    1998-06-23      937 days\n",
       "54  1996-08-07    1998-04-04      605 days\n",
       "60  1993-02-14    1995-08-06      903 days\n",
       "63  1990-12-22    1995-09-02     1715 days\n",
       "64  1990-11-25    1998-05-14     2727 days\n",
       "66  1992-09-08    1998-12-29     2303 days\n",
       "67  1990-05-04    1993-02-04     1007 days\n",
       "70  1994-02-16    1999-11-06     2089 days\n",
       "71  1990-11-25    1998-04-06     2689 days\n",
       "73  1991-10-01    1993-05-19      596 days\n",
       "75  1990-06-25    1996-12-18     2368 days\n",
       "..         ...           ...           ...\n",
       "907 1994-08-11    1998-09-28     1509 days\n",
       "908 1993-11-04    1997-02-26     1210 days\n",
       "909 1991-01-19    1998-08-22     2772 days\n",
       "916 1994-12-03    1997-03-26      844 days\n",
       "918 1994-12-29    1996-07-29      578 days\n",
       "919 1992-01-25    1993-06-01      493 days\n",
       "922 1996-07-06    1998-12-05      882 days\n",
       "924 1991-03-17    1996-05-13     1884 days\n",
       "926 1990-10-31    1994-04-12     1259 days\n",
       "935 1990-09-26    1998-03-07     2719 days\n",
       "938 1993-03-24    1995-07-15      843 days\n",
       "942 1992-04-14    1997-03-03     1784 days\n",
       "943 1991-01-30    1999-12-02     3228 days\n",
       "945 1992-10-27    1994-11-03      737 days\n",
       "946 1991-07-02    1996-02-23     1697 days\n",
       "947 1991-06-18    1999-06-11     2915 days\n",
       "951 1991-10-02    1994-04-18      929 days\n",
       "953 1991-09-26    1994-05-08      955 days\n",
       "956 1995-08-23    1999-01-10     1236 days\n",
       "957 1994-10-01    1999-07-25     1758 days\n",
       "958 1990-04-26    1997-06-29     2621 days\n",
       "972 1990-02-07    1995-11-05     2097 days\n",
       "981 1997-01-31    1998-03-04      397 days\n",
       "983 1994-12-30    1997-07-29      942 days\n",
       "984 1991-07-25    1999-02-09     2756 days\n",
       "986 1990-12-10    1992-12-16      737 days\n",
       "990 1991-06-24    1996-02-02     1684 days\n",
       "991 1991-09-09    1998-03-30     2394 days\n",
       "993 1990-11-16    1998-04-27     2719 days\n",
       "997 1990-01-04    1991-10-03      637 days\n",
       "\n",
       "[394 rows x 3 columns]"
      ]
     },
     "execution_count": 35,
     "metadata": {},
     "output_type": "execute_result"
    }
   ],
   "source": [
    "shipping[mask]"
   ]
  },
  {
   "cell_type": "code",
   "execution_count": 36,
   "metadata": {},
   "outputs": [
    {
     "data": {
      "text/plain": [
       "Timedelta('3583 days 00:00:00')"
      ]
     },
     "execution_count": 36,
     "metadata": {},
     "output_type": "execute_result"
    }
   ],
   "source": [
    "shipping['delivery_time'].max()"
   ]
  }
 ],
 "metadata": {
  "kernelspec": {
   "display_name": "Python 3",
   "language": "python",
   "name": "python3"
  },
  "language_info": {
   "codemirror_mode": {
    "name": "ipython",
    "version": 3
   },
   "file_extension": ".py",
   "mimetype": "text/x-python",
   "name": "python",
   "nbconvert_exporter": "python",
   "pygments_lexer": "ipython3",
   "version": "3.6.3"
  }
 },
 "nbformat": 4,
 "nbformat_minor": 2
}
